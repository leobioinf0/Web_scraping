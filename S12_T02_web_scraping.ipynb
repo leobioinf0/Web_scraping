{
  "cells": [
    {
      "cell_type": "markdown",
      "metadata": {
        "id": "view-in-github",
        "colab_type": "text"
      },
      "source": [
        "<a href=\"https://colab.research.google.com/github/leobioinf0/Web_scraping/blob/main/S12_T02_web_scraping.ipynb\" target=\"_parent\"><img src=\"https://colab.research.google.com/assets/colab-badge.svg\" alt=\"Open In Colab\"/></a>"
      ]
    },
    {
      "cell_type": "markdown",
      "metadata": {
        "id": "38mTTSRuHt1h"
      },
      "source": [
        "# IT Academy - Data Science with Python\n",
        "## [Sprint 12. Machine learning avançat](https://github.com/jesussantana/Supervised-Regression/blob/main/notebooks/S12_T01_Supevised_Regression.ipynb) \n",
        "### [S12 T02: Tasca de web scraping](https://github.com/jesussantana/Supervised-Regression) \n",
        "\n",
        "\n",
        "\n",
        "#### Exercises: \n",
        "\n",
        "Learn how to do web scraping.\n",
        "\n",
        "\n",
        "- Exercise 1: \n",
        "    - Scraping a page on the Madrid Stock Exchange (https://www.bolsamadrid.es) using BeautifulSoup and Selenium.\n",
        "\n",
        "- Exercise 2: \n",
        "    - Document in a word your data set generated with the information that the different Kaggle files have.\n",
        "\n",
        "- Exercise 2: \n",
        "    - Choose a web page you want and do web scraping using the Scrapy library.\n"
      ]
    },
    {
      "cell_type": "markdown",
      "metadata": {
        "id": "QT0EtREsdZmH"
      },
      "source": [
        "# Prerequisites"
      ]
    },
    {
      "cell_type": "markdown",
      "metadata": {
        "id": "jg9sGeCrhmBa"
      },
      "source": [
        "## Upgrade modules"
      ]
    },
    {
      "cell_type": "code",
      "source": [
        "!apt-get update\n",
        "!apt-get install chromium-chromedriver\n",
        "\n",
        "!pip3 install --upgrade selenium\n",
        "!pip3 install --upgrade python-docx\n",
        "!pip3 install --upgrade fake_useragent\n",
        "!pip3 install --upgrade scrapy\n",
        "!pip3 install --upgrade scrapy-fake-useragent"
      ],
      "metadata": {
        "id": "8dUeAXKdyBuJ"
      },
      "execution_count": null,
      "outputs": []
    },
    {
      "cell_type": "markdown",
      "metadata": {
        "id": "9-IBEOJOhmBa"
      },
      "source": [
        "## Load modules"
      ]
    },
    {
      "cell_type": "code",
      "source": [
        "import pandas as pd\n",
        "\n",
        "import requests\n",
        "from bs4 import BeautifulSoup\n",
        "\n",
        "from selenium import webdriver\n",
        "from selenium.webdriver.chrome.options import Options\n",
        "from selenium.webdriver.common.by import By\n",
        "\n",
        "from docx.shared import Pt\n",
        "from docx.enum.text import WD_ALIGN_PARAGRAPH\n",
        "from docx import Document \n",
        "\n",
        "from fake_useragent import UserAgent\n",
        "import scrapy_fake_useragent\n",
        "from scrapy.http import TextResponse\n",
        "\n",
        "import warnings\n",
        "warnings.filterwarnings('ignore')"
      ],
      "metadata": {
        "id": "Ebd5hPfgx9lS"
      },
      "execution_count": null,
      "outputs": []
    },
    {
      "cell_type": "markdown",
      "metadata": {
        "id": "LqkBxTqIhmBZ"
      },
      "source": [
        "#  Exercise 1: \n",
        "  - Scraping a page on the Madrid Stock Exchange (https://www.bolsamadrid.es) using BeautifulSoup and Selenium."
      ]
    },
    {
      "cell_type": "markdown",
      "source": [
        "## BeautifulSoup"
      ],
      "metadata": {
        "id": "d7_hsBuumP5c"
      }
    },
    {
      "cell_type": "code",
      "source": [
        "url = 'https://www.bolsamadrid.es'"
      ],
      "metadata": {
        "id": "qebOa5OId1IV"
      },
      "execution_count": null,
      "outputs": []
    },
    {
      "cell_type": "markdown",
      "source": [
        "We perform an HTTP GET request to the given URL. \n",
        "\n",
        "We retrieve the HTML data that the server sends us back and stores that data in a the python object \"`html`\".\n",
        "\n",
        "The `<Response [200]>` means that we successfully fetched the site content from the Internet! "
      ],
      "metadata": {
        "id": "057CbBXF5M9s"
      }
    },
    {
      "cell_type": "code",
      "source": [
        "html = requests.get(url)\n",
        "html"
      ],
      "metadata": {
        "id": "D56bywbbd8Fg",
        "colab": {
          "base_uri": "https://localhost:8080/"
        },
        "outputId": "e46635d8-696b-45cd-ef78-317a043c2bc5"
      },
      "execution_count": null,
      "outputs": [
        {
          "output_type": "execute_result",
          "data": {
            "text/plain": [
              "<Response [200]>"
            ]
          },
          "metadata": {},
          "execution_count": 17
        }
      ]
    },
    {
      "cell_type": "markdown",
      "source": [
        "We create a Beautiful Soup object that takes `html.content` as its input.\n"
      ],
      "metadata": {
        "id": "OqHKUv3y7U5F"
      }
    },
    {
      "cell_type": "code",
      "source": [
        "soup = BeautifulSoup(html.content, 'html.parser')"
      ],
      "metadata": {
        "id": "i1snO9j8d8ps"
      },
      "execution_count": null,
      "outputs": []
    },
    {
      "cell_type": "markdown",
      "source": [
        "Inspecting the page we see that the link to the values of the shares has the tag `<a>` and the text `Actions`"
      ],
      "metadata": {
        "id": "ncarRZG1_8QF"
      }
    },
    {
      "cell_type": "markdown",
      "source": [
        "![01.png](https://github.com/leobioinf0/Web_scraping/blob/main/01.png?raw=true)\n"
      ],
      "metadata": {
        "id": "Yw_hBLoD-d78"
      }
    },
    {
      "cell_type": "code",
      "source": [
        "title = soup.find(\"title\").get_text().replace(\"\\r\\n\",\"\").replace(\"\\t\",\"\")\n",
        "print(title)"
      ],
      "metadata": {
        "colab": {
          "base_uri": "https://localhost:8080/"
        },
        "id": "5ayRlSULKdS8",
        "outputId": "4fe4c2ec-600a-41fa-a86b-d3184f7df100"
      },
      "execution_count": null,
      "outputs": [
        {
          "output_type": "stream",
          "name": "stdout",
          "text": [
            "Bolsa de Madrid\n"
          ]
        }
      ]
    },
    {
      "cell_type": "markdown",
      "source": [
        "We find that specific HTML element by its tag and text:"
      ],
      "metadata": {
        "id": "L3093wp7nkU_"
      }
    },
    {
      "cell_type": "code",
      "source": [
        "a_tag = soup.find('a', string = 'Acciones')\n",
        "print(a_tag)"
      ],
      "metadata": {
        "id": "31KTz2wwAM9G",
        "colab": {
          "base_uri": "https://localhost:8080/"
        },
        "outputId": "112d27a3-dd56-4a9b-c48e-e784466fdecd"
      },
      "execution_count": null,
      "outputs": [
        {
          "output_type": "stream",
          "name": "stdout",
          "text": [
            "<a href=\"/esp/aspx/Mercados/Precios.aspx?indice=ESI100000000\" target=\"_self\">Acciones</a>\n"
          ]
        }
      ]
    },
    {
      "cell_type": "markdown",
      "source": [
        "We extract the value of its href attribute"
      ],
      "metadata": {
        "id": "Qi0hPvMkpqyV"
      }
    },
    {
      "cell_type": "code",
      "source": [
        "link = a_tag.get(key='href')\n",
        "print(link)"
      ],
      "metadata": {
        "id": "cvVpfg4kf8yI",
        "colab": {
          "base_uri": "https://localhost:8080/"
        },
        "outputId": "7958e791-3e97-4d0e-96b2-f6ac93309a41"
      },
      "execution_count": null,
      "outputs": [
        {
          "output_type": "stream",
          "name": "stdout",
          "text": [
            "/esp/aspx/Mercados/Precios.aspx?indice=ESI100000000\n"
          ]
        }
      ]
    },
    {
      "cell_type": "code",
      "source": [
        "url_shares = url+link.replace(\"esp\",\"ing\")\n",
        "print(url_shares)"
      ],
      "metadata": {
        "colab": {
          "base_uri": "https://localhost:8080/"
        },
        "id": "TEBY_6eeBzDF",
        "outputId": "1d365930-3d30-4901-a42d-b998c971bae0"
      },
      "execution_count": null,
      "outputs": [
        {
          "output_type": "stream",
          "name": "stdout",
          "text": [
            "https://www.bolsamadrid.es/ing/aspx/Mercados/Precios.aspx?indice=ESI100000000\n"
          ]
        }
      ]
    },
    {
      "cell_type": "markdown",
      "source": [
        "We perform an HTTP GET request to new URL."
      ],
      "metadata": {
        "id": "PW2URccZqVrH"
      }
    },
    {
      "cell_type": "code",
      "source": [
        "html = requests.get(url_shares)\n",
        "html"
      ],
      "metadata": {
        "id": "3B-wEEUehDJp",
        "colab": {
          "base_uri": "https://localhost:8080/"
        },
        "outputId": "e2b86df6-e509-481a-b842-a6a529252580"
      },
      "execution_count": null,
      "outputs": [
        {
          "output_type": "execute_result",
          "data": {
            "text/plain": [
              "<Response [200]>"
            ]
          },
          "metadata": {},
          "execution_count": 23
        }
      ]
    },
    {
      "cell_type": "markdown",
      "source": [
        "We create a Beautiful Soup object"
      ],
      "metadata": {
        "id": "oKAABRcbqeaf"
      }
    },
    {
      "cell_type": "code",
      "source": [
        "soup = BeautifulSoup(html.content, 'html.parser')"
      ],
      "metadata": {
        "id": "9vxmz9CohDL5"
      },
      "execution_count": null,
      "outputs": []
    },
    {
      "cell_type": "markdown",
      "source": [
        "Inspecting the page we see that the the values of the shares are tabulated in a `table` tag with the id  `ctl00_Contenido_tblAcciones`"
      ],
      "metadata": {
        "id": "BNI7tpY_sMED"
      }
    },
    {
      "cell_type": "markdown",
      "source": [
        "![02.png](https://github.com/leobioinf0/Web_scraping/blob/main/02.png?raw=true)\n"
      ],
      "metadata": {
        "id": "52q_4fdIr_Sg"
      }
    },
    {
      "cell_type": "markdown",
      "source": [
        "We find that specific HTML element by its ID:"
      ],
      "metadata": {
        "id": "1729yLoUq7za"
      }
    },
    {
      "cell_type": "code",
      "source": [
        "table_tag = soup.find(id='ctl00_Contenido_tblAcciones')"
      ],
      "metadata": {
        "id": "15lYIGTOiyi5"
      },
      "execution_count": null,
      "outputs": []
    },
    {
      "cell_type": "markdown",
      "source": [
        "We iterate over the child elements and extract the text."
      ],
      "metadata": {
        "id": "ouNL33aYttJs"
      }
    },
    {
      "cell_type": "code",
      "source": [
        "rows = []\n",
        "for child in table_tag.children:\n",
        "    element = []\n",
        "    if child != \"\\n\":\n",
        "        for i in child:\n",
        "            if i != \"\\n\":\n",
        "                element.append(i.text)\n",
        "        rows.append(element)"
      ],
      "metadata": {
        "id": "lWgXlVaWlb1B"
      },
      "execution_count": null,
      "outputs": []
    },
    {
      "cell_type": "code",
      "source": [
        "for r in rows:\n",
        "    print(r)"
      ],
      "metadata": {
        "colab": {
          "base_uri": "https://localhost:8080/"
        },
        "id": "6y65KUlPHnVG",
        "outputId": "690b2d18-f842-42c6-85f1-016425cca8c5"
      },
      "execution_count": null,
      "outputs": [
        {
          "output_type": "stream",
          "name": "stdout",
          "text": [
            "['Name', 'Last', '% Dif.', 'High', 'Low', 'Volume', 'Turnover (€ Thousands)', 'Date', 'Time']\n",
            "['ACCIONA', '142.2000', '2.30', '142.2000', '137.2000', '135,038', '19,028.55', '15/02/2022', 'Close']\n",
            "['ACERINOX', '11.5600', '2.21', '11.6750', '11.2350', '1,037,506', '11,990.35', '15/02/2022', 'Close']\n",
            "['ACS', '22.2900', '1.50', '22.3400', '21.7400', '697,215', '15,486.02', '15/02/2022', 'Close']\n",
            "['AENA', '153.6500', '2.43', '154.1000', '149.1500', '95,529', '14,625.18', '15/02/2022', 'Close']\n",
            "['ALMIRALL', '10.4000', '1.76', '10.4300', '10.1400', '273,597', '2,812.44', '15/02/2022', 'Close']\n",
            "['AMADEUS', '61.9800', '2.72', '62.0600', '59.6600', '658,758', '40,662.63', '15/02/2022', 'Close']\n",
            "['ARCELORMIT.', '26.9350', '2.18', '27.3900', '25.8300', '1,225,413', '32,963.22', '15/02/2022', 'Close']\n",
            "['B.SANTANDER', '3.4230', '2.29', '3.4230', '3.3090', '81,077,793', '272,444.88', '15/02/2022', 'Close']\n",
            "['BA.SABADELL', '0.9152', '1.13', '0.9298', '0.8992', '60,332,575', '55,048.44', '15/02/2022', 'Close']\n",
            "['BANKINTER', '5.7860', '-0.89', '5.9060', '5.7240', '4,203,853', '24,352.77', '15/02/2022', 'Close']\n",
            "['BBVA', '5.8740', '2.50', '5.8810', '5.6650', '20,900,344', '121,312.95', '15/02/2022', 'Close']\n",
            "['CAIXABANK', '3.3000', '0.27', '3.3450', '3.2560', '17,838,437', '58,841.08', '15/02/2022', 'Close']\n",
            "['CELLNEX', '39.5000', '1.28', '39.8400', '38.8300', '1,660,273', '65,562.57', '15/02/2022', 'Close']\n",
            "['CIE AUTOMOT.', '25.9600', '3.02', '25.9600', '25.2000', '154,052', '3,966.24', '15/02/2022', 'Close']\n",
            "['ENAGAS', '18.5450', '-0.30', '18.7250', '18.5200', '985,303', '18,314.66', '15/02/2022', 'Close']\n",
            "['ENDESA', '18.5300', '1.09', '18.6450', '18.2450', '940,818', '17,444.14', '15/02/2022', 'Close']\n",
            "['FERROVIAL', '24.6300', '3.49', '24.6300', '23.7300', '1,146,555', '28,099.44', '15/02/2022', 'Close']\n",
            "['FLUIDRA', '26.3500', '2.93', '26.4000', '25.5500', '595,195', '15,530.74', '15/02/2022', 'Close']\n",
            "['GRIFOLS CL.A', '14.5000', '0.42', '14.5650', '14.3200', '973,620', '14,085.70', '15/02/2022', 'Close']\n",
            "['IAG', '2.0500', '4.11', '2.0530', '1.9350', '26,460,447', '53,544.03', '15/02/2022', 'Close']\n",
            "['IBERDROLA', '9.4020', '2.82', '9.4020', '9.0900', '10,473,256', '97,995.74', '15/02/2022', 'Close']\n",
            "['INDITEX', '25.2000', '-0.51', '25.4700', '25.1200', '4,452,879', '112,412.68', '15/02/2022', 'Close']\n",
            "['INDRA A', '9.0650', '2.55', '9.1050', '8.8000', '462,861', '4,175.60', '15/02/2022', 'Close']\n",
            "['INM.COLONIAL', '7.5950', '1.47', '7.7900', '7.4400', '588,966', '4,453.46', '15/02/2022', 'Close']\n",
            "['MAPFRE', '1.9645', '1.11', '1.9670', '1.9300', '3,280,659', '6,413.64', '15/02/2022', 'Close']\n",
            "['MELIA HOTELS', '7.2900', '2.88', '7.3140', '7.0260', '927,053', '6,682.74', '15/02/2022', 'Close']\n",
            "['MERLIN', '10.1850', '1.44', '10.2400', '9.9320', '559,798', '5,677.23', '15/02/2022', 'Close']\n",
            "['NATURGY', '24.3200', '-1.02', '24.7900', '24.1600', '700,306', '17,088.47', '15/02/2022', 'Close']\n",
            "['PHARMA MAR', '54.3200', '1.99', '54.3600', '52.8000', '56,261', '3,026.18', '15/02/2022', 'Close']\n",
            "['R.E.C.', '16.8650', '-0.91', '17.0500', '16.8450', '1,357,968', '22,970.60', '15/02/2022', 'Close']\n",
            "['REPSOL', '11.6260', '-0.36', '11.7500', '11.4360', '8,139,495', '94,295.26', '15/02/2022', 'Close']\n",
            "['ROVI', '67.4000', '4.82', '67.8000', '63.7000', '142,822', '9,539.54', '15/02/2022', 'Close']\n",
            "['SIEMENS GAME', '17.4600', '6.66', '17.6400', '16.3900', '2,108,423', '36,371.14', '15/02/2022', 'Close']\n",
            "['SOLARIA', '13.9250', '2.62', '13.9550', '13.4400', '794,215', '10,988.34', '15/02/2022', 'Close']\n",
            "['TELEFONICA', '4.4130', '0.78', '4.4130', '4.3395', '16,477,702', '72,477.32', '15/02/2022', 'Close']\n"
          ]
        }
      ]
    },
    {
      "cell_type": "markdown",
      "source": [
        "We tablate the extracted data. "
      ],
      "metadata": {
        "id": "AtqN2s4ZuLWu"
      }
    },
    {
      "cell_type": "code",
      "source": [
        "df = pd.DataFrame(rows[1:], columns=rows[0])\n",
        "df "
      ],
      "metadata": {
        "colab": {
          "base_uri": "https://localhost:8080/"
        },
        "id": "1H-5PPILCXCB",
        "outputId": "ff6c7b02-218b-492c-b05d-e4984d0c718a"
      },
      "execution_count": null,
      "outputs": [
        {
          "output_type": "execute_result",
          "data": {
            "text/html": [
              "\n",
              "  <div id=\"df-854b4921-42c7-4035-a37d-b44f0e7cb36d\">\n",
              "    <div class=\"colab-df-container\">\n",
              "      <div>\n",
              "<style scoped>\n",
              "    .dataframe tbody tr th:only-of-type {\n",
              "        vertical-align: middle;\n",
              "    }\n",
              "\n",
              "    .dataframe tbody tr th {\n",
              "        vertical-align: top;\n",
              "    }\n",
              "\n",
              "    .dataframe thead th {\n",
              "        text-align: right;\n",
              "    }\n",
              "</style>\n",
              "<table border=\"1\" class=\"dataframe\">\n",
              "  <thead>\n",
              "    <tr style=\"text-align: right;\">\n",
              "      <th></th>\n",
              "      <th>Name</th>\n",
              "      <th>Last</th>\n",
              "      <th>% Dif.</th>\n",
              "      <th>High</th>\n",
              "      <th>Low</th>\n",
              "      <th>Volume</th>\n",
              "      <th>Turnover (€ Thousands)</th>\n",
              "      <th>Date</th>\n",
              "      <th>Time</th>\n",
              "    </tr>\n",
              "  </thead>\n",
              "  <tbody>\n",
              "    <tr>\n",
              "      <th>0</th>\n",
              "      <td>ACCIONA</td>\n",
              "      <td>142.2000</td>\n",
              "      <td>2.30</td>\n",
              "      <td>142.2000</td>\n",
              "      <td>137.2000</td>\n",
              "      <td>135,038</td>\n",
              "      <td>19,028.55</td>\n",
              "      <td>15/02/2022</td>\n",
              "      <td>Close</td>\n",
              "    </tr>\n",
              "    <tr>\n",
              "      <th>1</th>\n",
              "      <td>ACERINOX</td>\n",
              "      <td>11.5600</td>\n",
              "      <td>2.21</td>\n",
              "      <td>11.6750</td>\n",
              "      <td>11.2350</td>\n",
              "      <td>1,037,506</td>\n",
              "      <td>11,990.35</td>\n",
              "      <td>15/02/2022</td>\n",
              "      <td>Close</td>\n",
              "    </tr>\n",
              "    <tr>\n",
              "      <th>2</th>\n",
              "      <td>ACS</td>\n",
              "      <td>22.2900</td>\n",
              "      <td>1.50</td>\n",
              "      <td>22.3400</td>\n",
              "      <td>21.7400</td>\n",
              "      <td>697,215</td>\n",
              "      <td>15,486.02</td>\n",
              "      <td>15/02/2022</td>\n",
              "      <td>Close</td>\n",
              "    </tr>\n",
              "    <tr>\n",
              "      <th>3</th>\n",
              "      <td>AENA</td>\n",
              "      <td>153.6500</td>\n",
              "      <td>2.43</td>\n",
              "      <td>154.1000</td>\n",
              "      <td>149.1500</td>\n",
              "      <td>95,529</td>\n",
              "      <td>14,625.18</td>\n",
              "      <td>15/02/2022</td>\n",
              "      <td>Close</td>\n",
              "    </tr>\n",
              "    <tr>\n",
              "      <th>4</th>\n",
              "      <td>ALMIRALL</td>\n",
              "      <td>10.4000</td>\n",
              "      <td>1.76</td>\n",
              "      <td>10.4300</td>\n",
              "      <td>10.1400</td>\n",
              "      <td>273,597</td>\n",
              "      <td>2,812.44</td>\n",
              "      <td>15/02/2022</td>\n",
              "      <td>Close</td>\n",
              "    </tr>\n",
              "    <tr>\n",
              "      <th>5</th>\n",
              "      <td>AMADEUS</td>\n",
              "      <td>61.9800</td>\n",
              "      <td>2.72</td>\n",
              "      <td>62.0600</td>\n",
              "      <td>59.6600</td>\n",
              "      <td>658,758</td>\n",
              "      <td>40,662.63</td>\n",
              "      <td>15/02/2022</td>\n",
              "      <td>Close</td>\n",
              "    </tr>\n",
              "    <tr>\n",
              "      <th>6</th>\n",
              "      <td>ARCELORMIT.</td>\n",
              "      <td>26.9350</td>\n",
              "      <td>2.18</td>\n",
              "      <td>27.3900</td>\n",
              "      <td>25.8300</td>\n",
              "      <td>1,225,413</td>\n",
              "      <td>32,963.22</td>\n",
              "      <td>15/02/2022</td>\n",
              "      <td>Close</td>\n",
              "    </tr>\n",
              "    <tr>\n",
              "      <th>7</th>\n",
              "      <td>B.SANTANDER</td>\n",
              "      <td>3.4230</td>\n",
              "      <td>2.29</td>\n",
              "      <td>3.4230</td>\n",
              "      <td>3.3090</td>\n",
              "      <td>81,077,793</td>\n",
              "      <td>272,444.88</td>\n",
              "      <td>15/02/2022</td>\n",
              "      <td>Close</td>\n",
              "    </tr>\n",
              "    <tr>\n",
              "      <th>8</th>\n",
              "      <td>BA.SABADELL</td>\n",
              "      <td>0.9152</td>\n",
              "      <td>1.13</td>\n",
              "      <td>0.9298</td>\n",
              "      <td>0.8992</td>\n",
              "      <td>60,332,575</td>\n",
              "      <td>55,048.44</td>\n",
              "      <td>15/02/2022</td>\n",
              "      <td>Close</td>\n",
              "    </tr>\n",
              "    <tr>\n",
              "      <th>9</th>\n",
              "      <td>BANKINTER</td>\n",
              "      <td>5.7860</td>\n",
              "      <td>-0.89</td>\n",
              "      <td>5.9060</td>\n",
              "      <td>5.7240</td>\n",
              "      <td>4,203,853</td>\n",
              "      <td>24,352.77</td>\n",
              "      <td>15/02/2022</td>\n",
              "      <td>Close</td>\n",
              "    </tr>\n",
              "    <tr>\n",
              "      <th>10</th>\n",
              "      <td>BBVA</td>\n",
              "      <td>5.8740</td>\n",
              "      <td>2.50</td>\n",
              "      <td>5.8810</td>\n",
              "      <td>5.6650</td>\n",
              "      <td>20,900,344</td>\n",
              "      <td>121,312.95</td>\n",
              "      <td>15/02/2022</td>\n",
              "      <td>Close</td>\n",
              "    </tr>\n",
              "    <tr>\n",
              "      <th>11</th>\n",
              "      <td>CAIXABANK</td>\n",
              "      <td>3.3000</td>\n",
              "      <td>0.27</td>\n",
              "      <td>3.3450</td>\n",
              "      <td>3.2560</td>\n",
              "      <td>17,838,437</td>\n",
              "      <td>58,841.08</td>\n",
              "      <td>15/02/2022</td>\n",
              "      <td>Close</td>\n",
              "    </tr>\n",
              "    <tr>\n",
              "      <th>12</th>\n",
              "      <td>CELLNEX</td>\n",
              "      <td>39.5000</td>\n",
              "      <td>1.28</td>\n",
              "      <td>39.8400</td>\n",
              "      <td>38.8300</td>\n",
              "      <td>1,660,273</td>\n",
              "      <td>65,562.57</td>\n",
              "      <td>15/02/2022</td>\n",
              "      <td>Close</td>\n",
              "    </tr>\n",
              "    <tr>\n",
              "      <th>13</th>\n",
              "      <td>CIE AUTOMOT.</td>\n",
              "      <td>25.9600</td>\n",
              "      <td>3.02</td>\n",
              "      <td>25.9600</td>\n",
              "      <td>25.2000</td>\n",
              "      <td>154,052</td>\n",
              "      <td>3,966.24</td>\n",
              "      <td>15/02/2022</td>\n",
              "      <td>Close</td>\n",
              "    </tr>\n",
              "    <tr>\n",
              "      <th>14</th>\n",
              "      <td>ENAGAS</td>\n",
              "      <td>18.5450</td>\n",
              "      <td>-0.30</td>\n",
              "      <td>18.7250</td>\n",
              "      <td>18.5200</td>\n",
              "      <td>985,303</td>\n",
              "      <td>18,314.66</td>\n",
              "      <td>15/02/2022</td>\n",
              "      <td>Close</td>\n",
              "    </tr>\n",
              "    <tr>\n",
              "      <th>15</th>\n",
              "      <td>ENDESA</td>\n",
              "      <td>18.5300</td>\n",
              "      <td>1.09</td>\n",
              "      <td>18.6450</td>\n",
              "      <td>18.2450</td>\n",
              "      <td>940,818</td>\n",
              "      <td>17,444.14</td>\n",
              "      <td>15/02/2022</td>\n",
              "      <td>Close</td>\n",
              "    </tr>\n",
              "    <tr>\n",
              "      <th>16</th>\n",
              "      <td>FERROVIAL</td>\n",
              "      <td>24.6300</td>\n",
              "      <td>3.49</td>\n",
              "      <td>24.6300</td>\n",
              "      <td>23.7300</td>\n",
              "      <td>1,146,555</td>\n",
              "      <td>28,099.44</td>\n",
              "      <td>15/02/2022</td>\n",
              "      <td>Close</td>\n",
              "    </tr>\n",
              "    <tr>\n",
              "      <th>17</th>\n",
              "      <td>FLUIDRA</td>\n",
              "      <td>26.3500</td>\n",
              "      <td>2.93</td>\n",
              "      <td>26.4000</td>\n",
              "      <td>25.5500</td>\n",
              "      <td>595,195</td>\n",
              "      <td>15,530.74</td>\n",
              "      <td>15/02/2022</td>\n",
              "      <td>Close</td>\n",
              "    </tr>\n",
              "    <tr>\n",
              "      <th>18</th>\n",
              "      <td>GRIFOLS CL.A</td>\n",
              "      <td>14.5000</td>\n",
              "      <td>0.42</td>\n",
              "      <td>14.5650</td>\n",
              "      <td>14.3200</td>\n",
              "      <td>973,620</td>\n",
              "      <td>14,085.70</td>\n",
              "      <td>15/02/2022</td>\n",
              "      <td>Close</td>\n",
              "    </tr>\n",
              "    <tr>\n",
              "      <th>19</th>\n",
              "      <td>IAG</td>\n",
              "      <td>2.0500</td>\n",
              "      <td>4.11</td>\n",
              "      <td>2.0530</td>\n",
              "      <td>1.9350</td>\n",
              "      <td>26,460,447</td>\n",
              "      <td>53,544.03</td>\n",
              "      <td>15/02/2022</td>\n",
              "      <td>Close</td>\n",
              "    </tr>\n",
              "    <tr>\n",
              "      <th>20</th>\n",
              "      <td>IBERDROLA</td>\n",
              "      <td>9.4020</td>\n",
              "      <td>2.82</td>\n",
              "      <td>9.4020</td>\n",
              "      <td>9.0900</td>\n",
              "      <td>10,473,256</td>\n",
              "      <td>97,995.74</td>\n",
              "      <td>15/02/2022</td>\n",
              "      <td>Close</td>\n",
              "    </tr>\n",
              "    <tr>\n",
              "      <th>21</th>\n",
              "      <td>INDITEX</td>\n",
              "      <td>25.2000</td>\n",
              "      <td>-0.51</td>\n",
              "      <td>25.4700</td>\n",
              "      <td>25.1200</td>\n",
              "      <td>4,452,879</td>\n",
              "      <td>112,412.68</td>\n",
              "      <td>15/02/2022</td>\n",
              "      <td>Close</td>\n",
              "    </tr>\n",
              "    <tr>\n",
              "      <th>22</th>\n",
              "      <td>INDRA A</td>\n",
              "      <td>9.0650</td>\n",
              "      <td>2.55</td>\n",
              "      <td>9.1050</td>\n",
              "      <td>8.8000</td>\n",
              "      <td>462,861</td>\n",
              "      <td>4,175.60</td>\n",
              "      <td>15/02/2022</td>\n",
              "      <td>Close</td>\n",
              "    </tr>\n",
              "    <tr>\n",
              "      <th>23</th>\n",
              "      <td>INM.COLONIAL</td>\n",
              "      <td>7.5950</td>\n",
              "      <td>1.47</td>\n",
              "      <td>7.7900</td>\n",
              "      <td>7.4400</td>\n",
              "      <td>588,966</td>\n",
              "      <td>4,453.46</td>\n",
              "      <td>15/02/2022</td>\n",
              "      <td>Close</td>\n",
              "    </tr>\n",
              "    <tr>\n",
              "      <th>24</th>\n",
              "      <td>MAPFRE</td>\n",
              "      <td>1.9645</td>\n",
              "      <td>1.11</td>\n",
              "      <td>1.9670</td>\n",
              "      <td>1.9300</td>\n",
              "      <td>3,280,659</td>\n",
              "      <td>6,413.64</td>\n",
              "      <td>15/02/2022</td>\n",
              "      <td>Close</td>\n",
              "    </tr>\n",
              "    <tr>\n",
              "      <th>25</th>\n",
              "      <td>MELIA HOTELS</td>\n",
              "      <td>7.2900</td>\n",
              "      <td>2.88</td>\n",
              "      <td>7.3140</td>\n",
              "      <td>7.0260</td>\n",
              "      <td>927,053</td>\n",
              "      <td>6,682.74</td>\n",
              "      <td>15/02/2022</td>\n",
              "      <td>Close</td>\n",
              "    </tr>\n",
              "    <tr>\n",
              "      <th>26</th>\n",
              "      <td>MERLIN</td>\n",
              "      <td>10.1850</td>\n",
              "      <td>1.44</td>\n",
              "      <td>10.2400</td>\n",
              "      <td>9.9320</td>\n",
              "      <td>559,798</td>\n",
              "      <td>5,677.23</td>\n",
              "      <td>15/02/2022</td>\n",
              "      <td>Close</td>\n",
              "    </tr>\n",
              "    <tr>\n",
              "      <th>27</th>\n",
              "      <td>NATURGY</td>\n",
              "      <td>24.3200</td>\n",
              "      <td>-1.02</td>\n",
              "      <td>24.7900</td>\n",
              "      <td>24.1600</td>\n",
              "      <td>700,306</td>\n",
              "      <td>17,088.47</td>\n",
              "      <td>15/02/2022</td>\n",
              "      <td>Close</td>\n",
              "    </tr>\n",
              "    <tr>\n",
              "      <th>28</th>\n",
              "      <td>PHARMA MAR</td>\n",
              "      <td>54.3200</td>\n",
              "      <td>1.99</td>\n",
              "      <td>54.3600</td>\n",
              "      <td>52.8000</td>\n",
              "      <td>56,261</td>\n",
              "      <td>3,026.18</td>\n",
              "      <td>15/02/2022</td>\n",
              "      <td>Close</td>\n",
              "    </tr>\n",
              "    <tr>\n",
              "      <th>29</th>\n",
              "      <td>R.E.C.</td>\n",
              "      <td>16.8650</td>\n",
              "      <td>-0.91</td>\n",
              "      <td>17.0500</td>\n",
              "      <td>16.8450</td>\n",
              "      <td>1,357,968</td>\n",
              "      <td>22,970.60</td>\n",
              "      <td>15/02/2022</td>\n",
              "      <td>Close</td>\n",
              "    </tr>\n",
              "    <tr>\n",
              "      <th>30</th>\n",
              "      <td>REPSOL</td>\n",
              "      <td>11.6260</td>\n",
              "      <td>-0.36</td>\n",
              "      <td>11.7500</td>\n",
              "      <td>11.4360</td>\n",
              "      <td>8,139,495</td>\n",
              "      <td>94,295.26</td>\n",
              "      <td>15/02/2022</td>\n",
              "      <td>Close</td>\n",
              "    </tr>\n",
              "    <tr>\n",
              "      <th>31</th>\n",
              "      <td>ROVI</td>\n",
              "      <td>67.4000</td>\n",
              "      <td>4.82</td>\n",
              "      <td>67.8000</td>\n",
              "      <td>63.7000</td>\n",
              "      <td>142,822</td>\n",
              "      <td>9,539.54</td>\n",
              "      <td>15/02/2022</td>\n",
              "      <td>Close</td>\n",
              "    </tr>\n",
              "    <tr>\n",
              "      <th>32</th>\n",
              "      <td>SIEMENS GAME</td>\n",
              "      <td>17.4600</td>\n",
              "      <td>6.66</td>\n",
              "      <td>17.6400</td>\n",
              "      <td>16.3900</td>\n",
              "      <td>2,108,423</td>\n",
              "      <td>36,371.14</td>\n",
              "      <td>15/02/2022</td>\n",
              "      <td>Close</td>\n",
              "    </tr>\n",
              "    <tr>\n",
              "      <th>33</th>\n",
              "      <td>SOLARIA</td>\n",
              "      <td>13.9250</td>\n",
              "      <td>2.62</td>\n",
              "      <td>13.9550</td>\n",
              "      <td>13.4400</td>\n",
              "      <td>794,215</td>\n",
              "      <td>10,988.34</td>\n",
              "      <td>15/02/2022</td>\n",
              "      <td>Close</td>\n",
              "    </tr>\n",
              "    <tr>\n",
              "      <th>34</th>\n",
              "      <td>TELEFONICA</td>\n",
              "      <td>4.4130</td>\n",
              "      <td>0.78</td>\n",
              "      <td>4.4130</td>\n",
              "      <td>4.3395</td>\n",
              "      <td>16,477,702</td>\n",
              "      <td>72,477.32</td>\n",
              "      <td>15/02/2022</td>\n",
              "      <td>Close</td>\n",
              "    </tr>\n",
              "  </tbody>\n",
              "</table>\n",
              "</div>\n",
              "      <button class=\"colab-df-convert\" onclick=\"convertToInteractive('df-854b4921-42c7-4035-a37d-b44f0e7cb36d')\"\n",
              "              title=\"Convert this dataframe to an interactive table.\"\n",
              "              style=\"display:none;\">\n",
              "        \n",
              "  <svg xmlns=\"http://www.w3.org/2000/svg\" height=\"24px\"viewBox=\"0 0 24 24\"\n",
              "       width=\"24px\">\n",
              "    <path d=\"M0 0h24v24H0V0z\" fill=\"none\"/>\n",
              "    <path d=\"M18.56 5.44l.94 2.06.94-2.06 2.06-.94-2.06-.94-.94-2.06-.94 2.06-2.06.94zm-11 1L8.5 8.5l.94-2.06 2.06-.94-2.06-.94L8.5 2.5l-.94 2.06-2.06.94zm10 10l.94 2.06.94-2.06 2.06-.94-2.06-.94-.94-2.06-.94 2.06-2.06.94z\"/><path d=\"M17.41 7.96l-1.37-1.37c-.4-.4-.92-.59-1.43-.59-.52 0-1.04.2-1.43.59L10.3 9.45l-7.72 7.72c-.78.78-.78 2.05 0 2.83L4 21.41c.39.39.9.59 1.41.59.51 0 1.02-.2 1.41-.59l7.78-7.78 2.81-2.81c.8-.78.8-2.07 0-2.86zM5.41 20L4 18.59l7.72-7.72 1.47 1.35L5.41 20z\"/>\n",
              "  </svg>\n",
              "      </button>\n",
              "      \n",
              "  <style>\n",
              "    .colab-df-container {\n",
              "      display:flex;\n",
              "      flex-wrap:wrap;\n",
              "      gap: 12px;\n",
              "    }\n",
              "\n",
              "    .colab-df-convert {\n",
              "      background-color: #E8F0FE;\n",
              "      border: none;\n",
              "      border-radius: 50%;\n",
              "      cursor: pointer;\n",
              "      display: none;\n",
              "      fill: #1967D2;\n",
              "      height: 32px;\n",
              "      padding: 0 0 0 0;\n",
              "      width: 32px;\n",
              "    }\n",
              "\n",
              "    .colab-df-convert:hover {\n",
              "      background-color: #E2EBFA;\n",
              "      box-shadow: 0px 1px 2px rgba(60, 64, 67, 0.3), 0px 1px 3px 1px rgba(60, 64, 67, 0.15);\n",
              "      fill: #174EA6;\n",
              "    }\n",
              "\n",
              "    [theme=dark] .colab-df-convert {\n",
              "      background-color: #3B4455;\n",
              "      fill: #D2E3FC;\n",
              "    }\n",
              "\n",
              "    [theme=dark] .colab-df-convert:hover {\n",
              "      background-color: #434B5C;\n",
              "      box-shadow: 0px 1px 3px 1px rgba(0, 0, 0, 0.15);\n",
              "      filter: drop-shadow(0px 1px 2px rgba(0, 0, 0, 0.3));\n",
              "      fill: #FFFFFF;\n",
              "    }\n",
              "  </style>\n",
              "\n",
              "      <script>\n",
              "        const buttonEl =\n",
              "          document.querySelector('#df-854b4921-42c7-4035-a37d-b44f0e7cb36d button.colab-df-convert');\n",
              "        buttonEl.style.display =\n",
              "          google.colab.kernel.accessAllowed ? 'block' : 'none';\n",
              "\n",
              "        async function convertToInteractive(key) {\n",
              "          const element = document.querySelector('#df-854b4921-42c7-4035-a37d-b44f0e7cb36d');\n",
              "          const dataTable =\n",
              "            await google.colab.kernel.invokeFunction('convertToInteractive',\n",
              "                                                     [key], {});\n",
              "          if (!dataTable) return;\n",
              "\n",
              "          const docLinkHtml = 'Like what you see? Visit the ' +\n",
              "            '<a target=\"_blank\" href=https://colab.research.google.com/notebooks/data_table.ipynb>data table notebook</a>'\n",
              "            + ' to learn more about interactive tables.';\n",
              "          element.innerHTML = '';\n",
              "          dataTable['output_type'] = 'display_data';\n",
              "          await google.colab.output.renderOutput(dataTable, element);\n",
              "          const docLink = document.createElement('div');\n",
              "          docLink.innerHTML = docLinkHtml;\n",
              "          element.appendChild(docLink);\n",
              "        }\n",
              "      </script>\n",
              "    </div>\n",
              "  </div>\n",
              "  "
            ],
            "text/plain": [
              "            Name      Last % Dif.  ... Turnover (€ Thousands)        Date   Time\n",
              "0        ACCIONA  142.2000   2.30  ...              19,028.55  15/02/2022  Close\n",
              "1       ACERINOX   11.5600   2.21  ...              11,990.35  15/02/2022  Close\n",
              "2            ACS   22.2900   1.50  ...              15,486.02  15/02/2022  Close\n",
              "3           AENA  153.6500   2.43  ...              14,625.18  15/02/2022  Close\n",
              "4       ALMIRALL   10.4000   1.76  ...               2,812.44  15/02/2022  Close\n",
              "5        AMADEUS   61.9800   2.72  ...              40,662.63  15/02/2022  Close\n",
              "6    ARCELORMIT.   26.9350   2.18  ...              32,963.22  15/02/2022  Close\n",
              "7    B.SANTANDER    3.4230   2.29  ...             272,444.88  15/02/2022  Close\n",
              "8    BA.SABADELL    0.9152   1.13  ...              55,048.44  15/02/2022  Close\n",
              "9      BANKINTER    5.7860  -0.89  ...              24,352.77  15/02/2022  Close\n",
              "10          BBVA    5.8740   2.50  ...             121,312.95  15/02/2022  Close\n",
              "11     CAIXABANK    3.3000   0.27  ...              58,841.08  15/02/2022  Close\n",
              "12       CELLNEX   39.5000   1.28  ...              65,562.57  15/02/2022  Close\n",
              "13  CIE AUTOMOT.   25.9600   3.02  ...               3,966.24  15/02/2022  Close\n",
              "14        ENAGAS   18.5450  -0.30  ...              18,314.66  15/02/2022  Close\n",
              "15        ENDESA   18.5300   1.09  ...              17,444.14  15/02/2022  Close\n",
              "16     FERROVIAL   24.6300   3.49  ...              28,099.44  15/02/2022  Close\n",
              "17       FLUIDRA   26.3500   2.93  ...              15,530.74  15/02/2022  Close\n",
              "18  GRIFOLS CL.A   14.5000   0.42  ...              14,085.70  15/02/2022  Close\n",
              "19           IAG    2.0500   4.11  ...              53,544.03  15/02/2022  Close\n",
              "20     IBERDROLA    9.4020   2.82  ...              97,995.74  15/02/2022  Close\n",
              "21       INDITEX   25.2000  -0.51  ...             112,412.68  15/02/2022  Close\n",
              "22       INDRA A    9.0650   2.55  ...               4,175.60  15/02/2022  Close\n",
              "23  INM.COLONIAL    7.5950   1.47  ...               4,453.46  15/02/2022  Close\n",
              "24        MAPFRE    1.9645   1.11  ...               6,413.64  15/02/2022  Close\n",
              "25  MELIA HOTELS    7.2900   2.88  ...               6,682.74  15/02/2022  Close\n",
              "26        MERLIN   10.1850   1.44  ...               5,677.23  15/02/2022  Close\n",
              "27       NATURGY   24.3200  -1.02  ...              17,088.47  15/02/2022  Close\n",
              "28    PHARMA MAR   54.3200   1.99  ...               3,026.18  15/02/2022  Close\n",
              "29        R.E.C.   16.8650  -0.91  ...              22,970.60  15/02/2022  Close\n",
              "30        REPSOL   11.6260  -0.36  ...              94,295.26  15/02/2022  Close\n",
              "31          ROVI   67.4000   4.82  ...               9,539.54  15/02/2022  Close\n",
              "32  SIEMENS GAME   17.4600   6.66  ...              36,371.14  15/02/2022  Close\n",
              "33       SOLARIA   13.9250   2.62  ...              10,988.34  15/02/2022  Close\n",
              "34    TELEFONICA    4.4130   0.78  ...              72,477.32  15/02/2022  Close\n",
              "\n",
              "[35 rows x 9 columns]"
            ]
          },
          "metadata": {},
          "execution_count": 28
        }
      ]
    },
    {
      "cell_type": "markdown",
      "source": [
        "We extract some other information"
      ],
      "metadata": {
        "id": "vBHLaMnqGku3"
      }
    },
    {
      "cell_type": "code",
      "source": [
        "TituloPag = soup.find(\"div\", {\"class\": \"TituloPag\"}).text\n",
        "TituloPag"
      ],
      "metadata": {
        "colab": {
          "base_uri": "https://localhost:8080/"
        },
        "id": "W60jRt-vDjRD",
        "outputId": "75540ac8-9399-41f1-e622-18925bcc88ea"
      },
      "execution_count": null,
      "outputs": [
        {
          "output_type": "execute_result",
          "data": {
            "application/vnd.google.colaboratory.intrinsic+json": {
              "type": "string"
            },
            "text/plain": [
              "'Session Prices'"
            ]
          },
          "metadata": {},
          "execution_count": 29
        }
      ]
    },
    {
      "cell_type": "code",
      "source": [
        "Ctr = soup.find(\"div\", {\"class\": \"Ctr\"}).text\n",
        "Ctr"
      ],
      "metadata": {
        "colab": {
          "base_uri": "https://localhost:8080/"
        },
        "id": "LWzwOefNFz2C",
        "outputId": "8fb2f898-0bf4-425d-97cf-9707b1c5bc68"
      },
      "execution_count": null,
      "outputs": [
        {
          "output_type": "execute_result",
          "data": {
            "application/vnd.google.colaboratory.intrinsic+json": {
              "type": "string"
            },
            "text/plain": [
              "'IBEX 35®'"
            ]
          },
          "metadata": {},
          "execution_count": 30
        }
      ]
    },
    {
      "cell_type": "code",
      "source": [
        "Nota = soup.find(\"div\", {\"class\": \"Nota\"}).text\n",
        "Nota = Nota.replace(\"\\n\",\"\").split(\".\")\n",
        "Nota = [txt.lstrip() for txt in Nota[:-1]]\n",
        "Nota"
      ],
      "metadata": {
        "colab": {
          "base_uri": "https://localhost:8080/"
        },
        "id": "Bg2_QkshGCai",
        "outputId": "84a2625a-b12a-4b4c-9eff-18da9feca479"
      },
      "execution_count": null,
      "outputs": [
        {
          "output_type": "execute_result",
          "data": {
            "text/plain": [
              "['Data Delayed 15 minutes',\n",
              " 'Prices expressed in euros',\n",
              " 'Turnover expressed in thousands of euros',\n",
              " 'Volume and turnover includes all transactions until the closing of trading session',\n",
              " 'The total volume and turnover, including special operations carried out after the closing of trading session, is available in the historic information']"
            ]
          },
          "metadata": {},
          "execution_count": 31
        }
      ]
    },
    {
      "cell_type": "markdown",
      "source": [
        "Save data into a file"
      ],
      "metadata": {
        "id": "1cM-XjRyuVKp"
      }
    },
    {
      "cell_type": "code",
      "source": [
        "filename= './{}_{}_BeautifulSoup.csv'.format(TituloPag.replace(\" \",\"\"),Ctr.replace(r\"®\",\"\").replace(r\" \",\"\"))\n",
        "df.to_csv(filename, index=False)"
      ],
      "metadata": {
        "id": "rru_h1JeG2a4"
      },
      "execution_count": null,
      "outputs": []
    },
    {
      "cell_type": "markdown",
      "source": [
        "## Selenium"
      ],
      "metadata": {
        "id": "VUmSIO_5mSVX"
      }
    },
    {
      "cell_type": "markdown",
      "source": [
        "Web Driver for Chrome"
      ],
      "metadata": {
        "id": "tKZcYTbes2aR"
      }
    },
    {
      "cell_type": "code",
      "source": [
        "# to run Selenium in Google Colab\n",
        "options = webdriver.ChromeOptions()\n",
        "options.add_argument('--headless')\n",
        "options.add_argument('--no-sandbox')\n",
        "options.add_argument('--disable-dev-shm-usage')\n",
        "options.add_argument('--disable-extensions')"
      ],
      "metadata": {
        "id": "5BgOCYW9mWIx"
      },
      "execution_count": null,
      "outputs": []
    },
    {
      "cell_type": "markdown",
      "source": [
        "We instantiate a webdriver for Chrome"
      ],
      "metadata": {
        "id": "lpZseodCwlk9"
      }
    },
    {
      "cell_type": "code",
      "source": [
        "wd = webdriver.Chrome('chromedriver',options=options)"
      ],
      "metadata": {
        "id": "tFnqOReiwZJ0"
      },
      "execution_count": null,
      "outputs": []
    },
    {
      "cell_type": "markdown",
      "source": [
        "We call the `driver` object we created above and use the `get` method, which we pass the URL of the website we'd like to extract. "
      ],
      "metadata": {
        "id": "B3zSfLisx8-k"
      }
    },
    {
      "cell_type": "code",
      "source": [
        "wd.get(url_shares)"
      ],
      "metadata": {
        "id": "a1gkXISzqCRh"
      },
      "execution_count": null,
      "outputs": []
    },
    {
      "cell_type": "markdown",
      "source": [
        "To carry out this section of the exercise in a different way from the previous one, instead of looking for the data using the tag ID, we are going to do the search using XPATH\n",
        "\n",
        "The table with the values of interest has the following XPATH:\n",
        "- For the header row: `/html/body/div[1]/table/tbody/tr[4]/td[2]/div[1]/form/div[6]/table/tbody/tr/th`\n",
        "\n",
        "- For the entrie rows: `/html/body/div[1]/table/tbody/tr[4]/td[2]/div[1]/form/div[6]/table/tbody/tr[1]/td`"
      ],
      "metadata": {
        "id": "Nu3hfhhtyowv"
      }
    },
    {
      "cell_type": "markdown",
      "source": [
        "We exract the header"
      ],
      "metadata": {
        "id": "Tw3nJkBU2dDd"
      }
    },
    {
      "cell_type": "code",
      "source": [
        "table_header = wd.find_elements(By.XPATH, \"/html/body/div[1]/table/tbody/tr[4]/td[2]/div[1]/form/div[6]/table/tbody/tr[1]/th\")"
      ],
      "metadata": {
        "id": "982AkNFRr9_g"
      },
      "execution_count": null,
      "outputs": []
    },
    {
      "cell_type": "markdown",
      "source": [
        "We iterate over the elements of the header row and extract the text."
      ],
      "metadata": {
        "id": "SYC6J4v42NvY"
      }
    },
    {
      "cell_type": "code",
      "source": [
        "col_names = []\n",
        "for column in table_header:\n",
        "    col_names.append(column.text)\n",
        "print(col_names)"
      ],
      "metadata": {
        "id": "AwQkXdwm72JR",
        "colab": {
          "base_uri": "https://localhost:8080/"
        },
        "outputId": "97c1363d-0056-4dc0-d87d-0f69e2574598"
      },
      "execution_count": null,
      "outputs": [
        {
          "output_type": "stream",
          "name": "stdout",
          "text": [
            "['Name', 'Last', '% Dif.', 'High', 'Low', 'Volume', 'Turnover (€ Thousands)', 'Date', 'Time']\n"
          ]
        }
      ]
    },
    {
      "cell_type": "markdown",
      "source": [
        "We extract the table entries"
      ],
      "metadata": {
        "id": "dz9laz0k2h40"
      }
    },
    {
      "cell_type": "code",
      "source": [
        "table_rows = wd.find_elements(By.XPATH, \"/html/body/div[1]/table/tbody/tr[4]/td[2]/div[1]/form/div[6]/table/tbody/tr\")"
      ],
      "metadata": {
        "id": "JCt0xG_15XPo"
      },
      "execution_count": null,
      "outputs": []
    },
    {
      "cell_type": "markdown",
      "source": [
        "We iterate over the elements of the table and extract the text"
      ],
      "metadata": {
        "id": "gl3rwTOO2_7J"
      }
    },
    {
      "cell_type": "code",
      "source": [
        "rows = []\n",
        "for row in table_rows[1:]:\n",
        "    element = []\n",
        "    values = row.find_elements(By.XPATH, \"td\")\n",
        "    for value in values:\n",
        "        element.append(value.text)\n",
        "    rows.append(element)"
      ],
      "metadata": {
        "id": "eshMAA5Y4gMT"
      },
      "execution_count": null,
      "outputs": []
    },
    {
      "cell_type": "code",
      "source": [
        "for r in rows:\n",
        "    print(r)"
      ],
      "metadata": {
        "colab": {
          "base_uri": "https://localhost:8080/"
        },
        "id": "pHunMgudFxCA",
        "outputId": "7e6f4aa1-598e-4c98-8230-d6932da8305b"
      },
      "execution_count": null,
      "outputs": [
        {
          "output_type": "stream",
          "name": "stdout",
          "text": [
            "['ACCIONA', '142.2000', '2.30', '142.2000', '137.2000', '135,038', '19,028.55', '15/02/2022', 'Close']\n",
            "['ACERINOX', '11.5600', '2.21', '11.6750', '11.2350', '1,037,506', '11,990.35', '15/02/2022', 'Close']\n",
            "['ACS', '22.2900', '1.50', '22.3400', '21.7400', '697,215', '15,486.02', '15/02/2022', 'Close']\n",
            "['AENA', '153.6500', '2.43', '154.1000', '149.1500', '95,529', '14,625.18', '15/02/2022', 'Close']\n",
            "['ALMIRALL', '10.4000', '1.76', '10.4300', '10.1400', '273,597', '2,812.44', '15/02/2022', 'Close']\n",
            "['AMADEUS', '61.9800', '2.72', '62.0600', '59.6600', '658,758', '40,662.63', '15/02/2022', 'Close']\n",
            "['ARCELORMIT.', '26.9350', '2.18', '27.3900', '25.8300', '1,225,413', '32,963.22', '15/02/2022', 'Close']\n",
            "['B.SANTANDER', '3.4230', '2.29', '3.4230', '3.3090', '81,077,793', '272,444.88', '15/02/2022', 'Close']\n",
            "['BA.SABADELL', '0.9152', '1.13', '0.9298', '0.8992', '60,332,575', '55,048.44', '15/02/2022', 'Close']\n",
            "['BANKINTER', '5.7860', '-0.89', '5.9060', '5.7240', '4,203,853', '24,352.77', '15/02/2022', 'Close']\n",
            "['BBVA', '5.8740', '2.50', '5.8810', '5.6650', '20,900,344', '121,312.95', '15/02/2022', 'Close']\n",
            "['CAIXABANK', '3.3000', '0.27', '3.3450', '3.2560', '17,838,437', '58,841.08', '15/02/2022', 'Close']\n",
            "['CELLNEX', '39.5000', '1.28', '39.8400', '38.8300', '1,660,273', '65,562.57', '15/02/2022', 'Close']\n",
            "['CIE AUTOMOT.', '25.9600', '3.02', '25.9600', '25.2000', '154,052', '3,966.24', '15/02/2022', 'Close']\n",
            "['ENAGAS', '18.5450', '-0.30', '18.7250', '18.5200', '985,303', '18,314.66', '15/02/2022', 'Close']\n",
            "['ENDESA', '18.5300', '1.09', '18.6450', '18.2450', '940,818', '17,444.14', '15/02/2022', 'Close']\n",
            "['FERROVIAL', '24.6300', '3.49', '24.6300', '23.7300', '1,146,555', '28,099.44', '15/02/2022', 'Close']\n",
            "['FLUIDRA', '26.3500', '2.93', '26.4000', '25.5500', '595,195', '15,530.74', '15/02/2022', 'Close']\n",
            "['GRIFOLS CL.A', '14.5000', '0.42', '14.5650', '14.3200', '973,620', '14,085.70', '15/02/2022', 'Close']\n",
            "['IAG', '2.0500', '4.11', '2.0530', '1.9350', '26,460,447', '53,544.03', '15/02/2022', 'Close']\n",
            "['IBERDROLA', '9.4020', '2.82', '9.4020', '9.0900', '10,473,256', '97,995.74', '15/02/2022', 'Close']\n",
            "['INDITEX', '25.2000', '-0.51', '25.4700', '25.1200', '4,452,879', '112,412.68', '15/02/2022', 'Close']\n",
            "['INDRA A', '9.0650', '2.55', '9.1050', '8.8000', '462,861', '4,175.60', '15/02/2022', 'Close']\n",
            "['INM.COLONIAL', '7.5950', '1.47', '7.7900', '7.4400', '588,966', '4,453.46', '15/02/2022', 'Close']\n",
            "['MAPFRE', '1.9645', '1.11', '1.9670', '1.9300', '3,280,659', '6,413.64', '15/02/2022', 'Close']\n",
            "['MELIA HOTELS', '7.2900', '2.88', '7.3140', '7.0260', '927,053', '6,682.74', '15/02/2022', 'Close']\n",
            "['MERLIN', '10.1850', '1.44', '10.2400', '9.9320', '559,798', '5,677.23', '15/02/2022', 'Close']\n",
            "['NATURGY', '24.3200', '-1.02', '24.7900', '24.1600', '700,306', '17,088.47', '15/02/2022', 'Close']\n",
            "['PHARMA MAR', '54.3200', '1.99', '54.3600', '52.8000', '56,261', '3,026.18', '15/02/2022', 'Close']\n",
            "['R.E.C.', '16.8650', '-0.91', '17.0500', '16.8450', '1,357,968', '22,970.60', '15/02/2022', 'Close']\n",
            "['REPSOL', '11.6260', '-0.36', '11.7500', '11.4360', '8,139,495', '94,295.26', '15/02/2022', 'Close']\n",
            "['ROVI', '67.4000', '4.82', '67.8000', '63.7000', '142,822', '9,539.54', '15/02/2022', 'Close']\n",
            "['SIEMENS GAME', '17.4600', '6.66', '17.6400', '16.3900', '2,108,423', '36,371.14', '15/02/2022', 'Close']\n",
            "['SOLARIA', '13.9250', '2.62', '13.9550', '13.4400', '794,215', '10,988.34', '15/02/2022', 'Close']\n",
            "['TELEFONICA', '4.4130', '0.78', '4.4130', '4.3395', '16,477,702', '72,477.32', '15/02/2022', 'Close']\n"
          ]
        }
      ]
    },
    {
      "cell_type": "markdown",
      "source": [
        "We tabulate the extracted data."
      ],
      "metadata": {
        "id": "OpJA28XB3H7d"
      }
    },
    {
      "cell_type": "code",
      "source": [
        "df= pd.DataFrame(rows, columns=col_names)\n",
        "df.head(3)"
      ],
      "metadata": {
        "colab": {
          "base_uri": "https://localhost:8080/",
          "height": 143
        },
        "id": "SZ3iXU2MG3F6",
        "outputId": "c365d360-d241-48f6-c4c2-84afb66393c5"
      },
      "execution_count": null,
      "outputs": [
        {
          "output_type": "execute_result",
          "data": {
            "text/html": [
              "\n",
              "  <div id=\"df-95983120-a283-4952-b074-57052f5d0c1e\">\n",
              "    <div class=\"colab-df-container\">\n",
              "      <div>\n",
              "<style scoped>\n",
              "    .dataframe tbody tr th:only-of-type {\n",
              "        vertical-align: middle;\n",
              "    }\n",
              "\n",
              "    .dataframe tbody tr th {\n",
              "        vertical-align: top;\n",
              "    }\n",
              "\n",
              "    .dataframe thead th {\n",
              "        text-align: right;\n",
              "    }\n",
              "</style>\n",
              "<table border=\"1\" class=\"dataframe\">\n",
              "  <thead>\n",
              "    <tr style=\"text-align: right;\">\n",
              "      <th></th>\n",
              "      <th>Name</th>\n",
              "      <th>Last</th>\n",
              "      <th>% Dif.</th>\n",
              "      <th>High</th>\n",
              "      <th>Low</th>\n",
              "      <th>Volume</th>\n",
              "      <th>Turnover (€ Thousands)</th>\n",
              "      <th>Date</th>\n",
              "      <th>Time</th>\n",
              "    </tr>\n",
              "  </thead>\n",
              "  <tbody>\n",
              "    <tr>\n",
              "      <th>0</th>\n",
              "      <td>ACCIONA</td>\n",
              "      <td>142.2000</td>\n",
              "      <td>2.30</td>\n",
              "      <td>142.2000</td>\n",
              "      <td>137.2000</td>\n",
              "      <td>135,038</td>\n",
              "      <td>19,028.55</td>\n",
              "      <td>15/02/2022</td>\n",
              "      <td>Close</td>\n",
              "    </tr>\n",
              "    <tr>\n",
              "      <th>1</th>\n",
              "      <td>ACERINOX</td>\n",
              "      <td>11.5600</td>\n",
              "      <td>2.21</td>\n",
              "      <td>11.6750</td>\n",
              "      <td>11.2350</td>\n",
              "      <td>1,037,506</td>\n",
              "      <td>11,990.35</td>\n",
              "      <td>15/02/2022</td>\n",
              "      <td>Close</td>\n",
              "    </tr>\n",
              "    <tr>\n",
              "      <th>2</th>\n",
              "      <td>ACS</td>\n",
              "      <td>22.2900</td>\n",
              "      <td>1.50</td>\n",
              "      <td>22.3400</td>\n",
              "      <td>21.7400</td>\n",
              "      <td>697,215</td>\n",
              "      <td>15,486.02</td>\n",
              "      <td>15/02/2022</td>\n",
              "      <td>Close</td>\n",
              "    </tr>\n",
              "  </tbody>\n",
              "</table>\n",
              "</div>\n",
              "      <button class=\"colab-df-convert\" onclick=\"convertToInteractive('df-95983120-a283-4952-b074-57052f5d0c1e')\"\n",
              "              title=\"Convert this dataframe to an interactive table.\"\n",
              "              style=\"display:none;\">\n",
              "        \n",
              "  <svg xmlns=\"http://www.w3.org/2000/svg\" height=\"24px\"viewBox=\"0 0 24 24\"\n",
              "       width=\"24px\">\n",
              "    <path d=\"M0 0h24v24H0V0z\" fill=\"none\"/>\n",
              "    <path d=\"M18.56 5.44l.94 2.06.94-2.06 2.06-.94-2.06-.94-.94-2.06-.94 2.06-2.06.94zm-11 1L8.5 8.5l.94-2.06 2.06-.94-2.06-.94L8.5 2.5l-.94 2.06-2.06.94zm10 10l.94 2.06.94-2.06 2.06-.94-2.06-.94-.94-2.06-.94 2.06-2.06.94z\"/><path d=\"M17.41 7.96l-1.37-1.37c-.4-.4-.92-.59-1.43-.59-.52 0-1.04.2-1.43.59L10.3 9.45l-7.72 7.72c-.78.78-.78 2.05 0 2.83L4 21.41c.39.39.9.59 1.41.59.51 0 1.02-.2 1.41-.59l7.78-7.78 2.81-2.81c.8-.78.8-2.07 0-2.86zM5.41 20L4 18.59l7.72-7.72 1.47 1.35L5.41 20z\"/>\n",
              "  </svg>\n",
              "      </button>\n",
              "      \n",
              "  <style>\n",
              "    .colab-df-container {\n",
              "      display:flex;\n",
              "      flex-wrap:wrap;\n",
              "      gap: 12px;\n",
              "    }\n",
              "\n",
              "    .colab-df-convert {\n",
              "      background-color: #E8F0FE;\n",
              "      border: none;\n",
              "      border-radius: 50%;\n",
              "      cursor: pointer;\n",
              "      display: none;\n",
              "      fill: #1967D2;\n",
              "      height: 32px;\n",
              "      padding: 0 0 0 0;\n",
              "      width: 32px;\n",
              "    }\n",
              "\n",
              "    .colab-df-convert:hover {\n",
              "      background-color: #E2EBFA;\n",
              "      box-shadow: 0px 1px 2px rgba(60, 64, 67, 0.3), 0px 1px 3px 1px rgba(60, 64, 67, 0.15);\n",
              "      fill: #174EA6;\n",
              "    }\n",
              "\n",
              "    [theme=dark] .colab-df-convert {\n",
              "      background-color: #3B4455;\n",
              "      fill: #D2E3FC;\n",
              "    }\n",
              "\n",
              "    [theme=dark] .colab-df-convert:hover {\n",
              "      background-color: #434B5C;\n",
              "      box-shadow: 0px 1px 3px 1px rgba(0, 0, 0, 0.15);\n",
              "      filter: drop-shadow(0px 1px 2px rgba(0, 0, 0, 0.3));\n",
              "      fill: #FFFFFF;\n",
              "    }\n",
              "  </style>\n",
              "\n",
              "      <script>\n",
              "        const buttonEl =\n",
              "          document.querySelector('#df-95983120-a283-4952-b074-57052f5d0c1e button.colab-df-convert');\n",
              "        buttonEl.style.display =\n",
              "          google.colab.kernel.accessAllowed ? 'block' : 'none';\n",
              "\n",
              "        async function convertToInteractive(key) {\n",
              "          const element = document.querySelector('#df-95983120-a283-4952-b074-57052f5d0c1e');\n",
              "          const dataTable =\n",
              "            await google.colab.kernel.invokeFunction('convertToInteractive',\n",
              "                                                     [key], {});\n",
              "          if (!dataTable) return;\n",
              "\n",
              "          const docLinkHtml = 'Like what you see? Visit the ' +\n",
              "            '<a target=\"_blank\" href=https://colab.research.google.com/notebooks/data_table.ipynb>data table notebook</a>'\n",
              "            + ' to learn more about interactive tables.';\n",
              "          element.innerHTML = '';\n",
              "          dataTable['output_type'] = 'display_data';\n",
              "          await google.colab.output.renderOutput(dataTable, element);\n",
              "          const docLink = document.createElement('div');\n",
              "          docLink.innerHTML = docLinkHtml;\n",
              "          element.appendChild(docLink);\n",
              "        }\n",
              "      </script>\n",
              "    </div>\n",
              "  </div>\n",
              "  "
            ],
            "text/plain": [
              "       Name      Last % Dif.  ... Turnover (€ Thousands)        Date   Time\n",
              "0   ACCIONA  142.2000   2.30  ...              19,028.55  15/02/2022  Close\n",
              "1  ACERINOX   11.5600   2.21  ...              11,990.35  15/02/2022  Close\n",
              "2       ACS   22.2900   1.50  ...              15,486.02  15/02/2022  Close\n",
              "\n",
              "[3 rows x 9 columns]"
            ]
          },
          "metadata": {},
          "execution_count": 42
        }
      ]
    },
    {
      "cell_type": "markdown",
      "source": [
        "We extract some other information"
      ],
      "metadata": {
        "id": "GA3M-KwyGqIE"
      }
    },
    {
      "cell_type": "code",
      "source": [
        "TituloPag = wd.find_element(By.CLASS_NAME, \"TituloPag\").text\n",
        "TituloPag"
      ],
      "metadata": {
        "colab": {
          "base_uri": "https://localhost:8080/",
          "height": 35
        },
        "id": "b_wuh4IUa2qr",
        "outputId": "dec1ed69-321d-4e61-831d-a3876428c330"
      },
      "execution_count": null,
      "outputs": [
        {
          "output_type": "execute_result",
          "data": {
            "application/vnd.google.colaboratory.intrinsic+json": {
              "type": "string"
            },
            "text/plain": [
              "'Session Prices'"
            ]
          },
          "metadata": {},
          "execution_count": 43
        }
      ]
    },
    {
      "cell_type": "code",
      "source": [
        "Ctr = wd.find_element(By.CLASS_NAME, \"Ctr\").text\n",
        "Ctr"
      ],
      "metadata": {
        "colab": {
          "base_uri": "https://localhost:8080/",
          "height": 35
        },
        "id": "4X1p_CKsa2tB",
        "outputId": "0d564c2a-6161-4e06-e9f7-e3fa334ec065"
      },
      "execution_count": null,
      "outputs": [
        {
          "output_type": "execute_result",
          "data": {
            "application/vnd.google.colaboratory.intrinsic+json": {
              "type": "string"
            },
            "text/plain": [
              "'IBEX 35®'"
            ]
          },
          "metadata": {},
          "execution_count": 44
        }
      ]
    },
    {
      "cell_type": "code",
      "source": [
        "Nota = wd.find_element(By.CLASS_NAME, \"Nota\").text\n",
        "Nota = Nota.replace(\"\\n\",\"\").split(\".\")\n",
        "Nota = [txt.lstrip() for txt in Nota[:-1]]\n",
        "Nota"
      ],
      "metadata": {
        "colab": {
          "base_uri": "https://localhost:8080/"
        },
        "id": "fOSDOM37a2vD",
        "outputId": "1d4eaddf-9db5-4a91-8c0a-615ef1cdd1e2"
      },
      "execution_count": null,
      "outputs": [
        {
          "output_type": "execute_result",
          "data": {
            "text/plain": [
              "['Data Delayed 15 minutes',\n",
              " 'Prices expressed in euros',\n",
              " 'Turnover expressed in thousands of euros',\n",
              " 'Volume and turnover includes all transactions until the closing of trading session',\n",
              " 'The total volume and turnover, including special operations carried out after the closing of trading session, is available in the historic information']"
            ]
          },
          "metadata": {},
          "execution_count": 45
        }
      ]
    },
    {
      "cell_type": "markdown",
      "source": [
        "Save data into a file"
      ],
      "metadata": {
        "id": "La3APsW83Vj2"
      }
    },
    {
      "cell_type": "code",
      "source": [
        "filename= './{}_{}_Selenium.csv'.format(TituloPag.replace(\" \",\"\"),Ctr.replace(r\"®\",\"\").replace(r\" \",\"\"))\n",
        "df.to_csv(filename, index=False)"
      ],
      "metadata": {
        "id": "uYoNHdULhDc2"
      },
      "execution_count": null,
      "outputs": []
    },
    {
      "cell_type": "markdown",
      "source": [
        "We close the driver"
      ],
      "metadata": {
        "id": "PU7OjD5bs2aT"
      }
    },
    {
      "cell_type": "code",
      "execution_count": null,
      "source": [
        "wd.quit()"
      ],
      "outputs": [],
      "metadata": {
        "id": "QODIdZ8Ls2aT"
      }
    },
    {
      "cell_type": "markdown",
      "source": [
        "# Exercise 2: \n",
        "  - Document in a word your data set generated with the information that the different Kaggle files have."
      ],
      "metadata": {
        "id": "5eI4xUkNs2aT"
      }
    },
    {
      "cell_type": "code",
      "source": [
        "df = pd.read_csv(filename,\n",
        "                 decimal='.',\n",
        "                 thousands=',')\n",
        "df.columns =  df.columns.str.replace(r\"% |\\.| \\(.*\\)\",\"\")\n",
        "df=df.round(1)\n",
        "df.head(3)"
      ],
      "metadata": {
        "colab": {
          "base_uri": "https://localhost:8080/",
          "height": 143
        },
        "id": "JxwHnkAkSgxz",
        "outputId": "2c3a50ed-ae0e-4377-9f9c-20826226e767"
      },
      "execution_count": null,
      "outputs": [
        {
          "output_type": "execute_result",
          "data": {
            "text/html": [
              "\n",
              "  <div id=\"df-1a9b9301-6d3b-4b37-b3e4-60db786cb90d\">\n",
              "    <div class=\"colab-df-container\">\n",
              "      <div>\n",
              "<style scoped>\n",
              "    .dataframe tbody tr th:only-of-type {\n",
              "        vertical-align: middle;\n",
              "    }\n",
              "\n",
              "    .dataframe tbody tr th {\n",
              "        vertical-align: top;\n",
              "    }\n",
              "\n",
              "    .dataframe thead th {\n",
              "        text-align: right;\n",
              "    }\n",
              "</style>\n",
              "<table border=\"1\" class=\"dataframe\">\n",
              "  <thead>\n",
              "    <tr style=\"text-align: right;\">\n",
              "      <th></th>\n",
              "      <th>Name</th>\n",
              "      <th>Last</th>\n",
              "      <th>Dif</th>\n",
              "      <th>High</th>\n",
              "      <th>Low</th>\n",
              "      <th>Volume</th>\n",
              "      <th>Turnover</th>\n",
              "      <th>Date</th>\n",
              "      <th>Time</th>\n",
              "    </tr>\n",
              "  </thead>\n",
              "  <tbody>\n",
              "    <tr>\n",
              "      <th>0</th>\n",
              "      <td>ACCIONA</td>\n",
              "      <td>142.2</td>\n",
              "      <td>2.3</td>\n",
              "      <td>142.2</td>\n",
              "      <td>137.2</td>\n",
              "      <td>135038</td>\n",
              "      <td>19028.6</td>\n",
              "      <td>15/02/2022</td>\n",
              "      <td>Close</td>\n",
              "    </tr>\n",
              "    <tr>\n",
              "      <th>1</th>\n",
              "      <td>ACERINOX</td>\n",
              "      <td>11.6</td>\n",
              "      <td>2.2</td>\n",
              "      <td>11.7</td>\n",
              "      <td>11.2</td>\n",
              "      <td>1037506</td>\n",
              "      <td>11990.4</td>\n",
              "      <td>15/02/2022</td>\n",
              "      <td>Close</td>\n",
              "    </tr>\n",
              "    <tr>\n",
              "      <th>2</th>\n",
              "      <td>ACS</td>\n",
              "      <td>22.3</td>\n",
              "      <td>1.5</td>\n",
              "      <td>22.3</td>\n",
              "      <td>21.7</td>\n",
              "      <td>697215</td>\n",
              "      <td>15486.0</td>\n",
              "      <td>15/02/2022</td>\n",
              "      <td>Close</td>\n",
              "    </tr>\n",
              "  </tbody>\n",
              "</table>\n",
              "</div>\n",
              "      <button class=\"colab-df-convert\" onclick=\"convertToInteractive('df-1a9b9301-6d3b-4b37-b3e4-60db786cb90d')\"\n",
              "              title=\"Convert this dataframe to an interactive table.\"\n",
              "              style=\"display:none;\">\n",
              "        \n",
              "  <svg xmlns=\"http://www.w3.org/2000/svg\" height=\"24px\"viewBox=\"0 0 24 24\"\n",
              "       width=\"24px\">\n",
              "    <path d=\"M0 0h24v24H0V0z\" fill=\"none\"/>\n",
              "    <path d=\"M18.56 5.44l.94 2.06.94-2.06 2.06-.94-2.06-.94-.94-2.06-.94 2.06-2.06.94zm-11 1L8.5 8.5l.94-2.06 2.06-.94-2.06-.94L8.5 2.5l-.94 2.06-2.06.94zm10 10l.94 2.06.94-2.06 2.06-.94-2.06-.94-.94-2.06-.94 2.06-2.06.94z\"/><path d=\"M17.41 7.96l-1.37-1.37c-.4-.4-.92-.59-1.43-.59-.52 0-1.04.2-1.43.59L10.3 9.45l-7.72 7.72c-.78.78-.78 2.05 0 2.83L4 21.41c.39.39.9.59 1.41.59.51 0 1.02-.2 1.41-.59l7.78-7.78 2.81-2.81c.8-.78.8-2.07 0-2.86zM5.41 20L4 18.59l7.72-7.72 1.47 1.35L5.41 20z\"/>\n",
              "  </svg>\n",
              "      </button>\n",
              "      \n",
              "  <style>\n",
              "    .colab-df-container {\n",
              "      display:flex;\n",
              "      flex-wrap:wrap;\n",
              "      gap: 12px;\n",
              "    }\n",
              "\n",
              "    .colab-df-convert {\n",
              "      background-color: #E8F0FE;\n",
              "      border: none;\n",
              "      border-radius: 50%;\n",
              "      cursor: pointer;\n",
              "      display: none;\n",
              "      fill: #1967D2;\n",
              "      height: 32px;\n",
              "      padding: 0 0 0 0;\n",
              "      width: 32px;\n",
              "    }\n",
              "\n",
              "    .colab-df-convert:hover {\n",
              "      background-color: #E2EBFA;\n",
              "      box-shadow: 0px 1px 2px rgba(60, 64, 67, 0.3), 0px 1px 3px 1px rgba(60, 64, 67, 0.15);\n",
              "      fill: #174EA6;\n",
              "    }\n",
              "\n",
              "    [theme=dark] .colab-df-convert {\n",
              "      background-color: #3B4455;\n",
              "      fill: #D2E3FC;\n",
              "    }\n",
              "\n",
              "    [theme=dark] .colab-df-convert:hover {\n",
              "      background-color: #434B5C;\n",
              "      box-shadow: 0px 1px 3px 1px rgba(0, 0, 0, 0.15);\n",
              "      filter: drop-shadow(0px 1px 2px rgba(0, 0, 0, 0.3));\n",
              "      fill: #FFFFFF;\n",
              "    }\n",
              "  </style>\n",
              "\n",
              "      <script>\n",
              "        const buttonEl =\n",
              "          document.querySelector('#df-1a9b9301-6d3b-4b37-b3e4-60db786cb90d button.colab-df-convert');\n",
              "        buttonEl.style.display =\n",
              "          google.colab.kernel.accessAllowed ? 'block' : 'none';\n",
              "\n",
              "        async function convertToInteractive(key) {\n",
              "          const element = document.querySelector('#df-1a9b9301-6d3b-4b37-b3e4-60db786cb90d');\n",
              "          const dataTable =\n",
              "            await google.colab.kernel.invokeFunction('convertToInteractive',\n",
              "                                                     [key], {});\n",
              "          if (!dataTable) return;\n",
              "\n",
              "          const docLinkHtml = 'Like what you see? Visit the ' +\n",
              "            '<a target=\"_blank\" href=https://colab.research.google.com/notebooks/data_table.ipynb>data table notebook</a>'\n",
              "            + ' to learn more about interactive tables.';\n",
              "          element.innerHTML = '';\n",
              "          dataTable['output_type'] = 'display_data';\n",
              "          await google.colab.output.renderOutput(dataTable, element);\n",
              "          const docLink = document.createElement('div');\n",
              "          docLink.innerHTML = docLinkHtml;\n",
              "          element.appendChild(docLink);\n",
              "        }\n",
              "      </script>\n",
              "    </div>\n",
              "  </div>\n",
              "  "
            ],
            "text/plain": [
              "       Name   Last  Dif   High    Low   Volume  Turnover        Date   Time\n",
              "0   ACCIONA  142.2  2.3  142.2  137.2   135038   19028.6  15/02/2022  Close\n",
              "1  ACERINOX   11.6  2.2   11.7   11.2  1037506   11990.4  15/02/2022  Close\n",
              "2       ACS   22.3  1.5   22.3   21.7   697215   15486.0  15/02/2022  Close"
            ]
          },
          "metadata": {},
          "execution_count": 49
        }
      ]
    },
    {
      "cell_type": "code",
      "source": [
        "date = df.Date[0]\n",
        "print(url)\n",
        "print(date)\n",
        "print(title)\n",
        "print(TituloPag)\n",
        "print(Ctr)\n",
        "print(Nota)"
      ],
      "metadata": {
        "colab": {
          "base_uri": "https://localhost:8080/"
        },
        "id": "DhJRW0S5Qrrw",
        "outputId": "98866dda-a735-4cfb-9a89-ca312864b792"
      },
      "execution_count": null,
      "outputs": [
        {
          "output_type": "stream",
          "name": "stdout",
          "text": [
            "https://www.bolsamadrid.es\n",
            "15/02/2022\n",
            "Bolsa de Madrid\n",
            "Session Prices\n",
            "IBEX 35®\n",
            "['Data Delayed 15 minutes', 'Prices expressed in euros', 'Turnover expressed in thousands of euros', 'Volume and turnover includes all transactions until the closing of trading session', 'The total volume and turnover, including special operations carried out after the closing of trading session, is available in the historic information']\n"
          ]
        }
      ]
    },
    {
      "cell_type": "code",
      "source": [
        "content = [\"Name: Legal name of the company.\",\n",
        "           \"Last: Last price per share of the company expressed in euros.\",\n",
        "           \"Dif: Net change of the day expressed in percentage.\",\n",
        "           \"High: Maximum price during the day expressed in euros.\",\n",
        "           \"Low: Minimum price during the day expressed in euros.\",\n",
        "           \"Volume: Number of shares that changed hands during a given day.\",\n",
        "           \"Turnover: Expressed in thousands of euros. Is the result of multiplying the number of shares traded by the price of each share.\",\n",
        "           \"Date: Trading date.\",\n",
        "           \"Time: Trading time.\"]"
      ],
      "metadata": {
        "id": "kgoj6G6E1wqJ"
      },
      "execution_count": null,
      "outputs": []
    },
    {
      "cell_type": "code",
      "source": [
        "# Create document object\n",
        "document = Document()\n",
        "\n",
        "header_1 = document.add_heading(\"'{}' webpage Scrapping\".format(title), 0)\n",
        "header_1.alignment = WD_ALIGN_PARAGRAPH.CENTER\n",
        "\n",
        "#Context\n",
        "document.add_heading(\"Context\", 1)\n",
        "p = document.add_paragraph(\"\")\n",
        "p.add_run(\"This dataset contains the {} of the shares of all the {} companies registered on the date {}. The information was scraped from {}\".format(TituloPag,Ctr,date,url))\n",
        "document.paragraphs[2].runs[0].font.size = Pt(8)\n",
        "document.paragraphs[2].runs[0].font.name = 'Verdana'\n",
        "\n",
        "#Content\n",
        "document.add_heading(\"Content\", 1)\n",
        "p2 = document.add_paragraph(\"\")\n",
        "p2.add_run(\"The information contained in this dataset include: {}\".format(', '.join(df.columns)))\n",
        "document.paragraphs[4].runs[0].font.size = Pt(8)\n",
        "document.paragraphs[4].runs[0].font.name = 'Verdana'\n",
        "\n",
        "for column in content:\n",
        "    document.add_paragraph(column, style=\"List Bullet\")\n",
        "\n",
        "for paragraph in document.paragraphs[5:]:\n",
        "    paragraph.runs[0].font.size = Pt(8)\n",
        "    paragraph.runs[0].font.name = 'Verdana'\n",
        "\n",
        "#Acknowledgements\n",
        "document.add_heading(\"Acknowledgements\", 1)\n",
        "p3 = document.add_paragraph(\"\")\n",
        "p3.add_run(\"The information was scraped from {}\".format(url))\n",
        "document.paragraphs[15].runs[0].font.size = Pt(8)\n",
        "document.paragraphs[15].runs[0].font.name = 'Verdana'\n",
        "\n",
        "#Inspiration\n",
        "document.add_heading(\"Inspiration\", 1)\n",
        "p4 = document.add_paragraph(\"\")\n",
        "p4.add_run(\"Exercici 2: Documenta en un word el teu conjunt de dades generat amb la informació que tenen els diferents arxius de Kaggle.\")\n",
        "document.paragraphs[17].runs[0].font.size = Pt(8)\n",
        "document.paragraphs[17].runs[0].font.name = 'Verdana'\n",
        "\n",
        "#Data\n",
        "document.add_heading(\"Data\", 1)\n",
        "document.add_paragraph(\"\")\n",
        "\n",
        "##Table\n",
        "t = document.add_table(df.shape[0]+1, df.shape[1])\n",
        "t.allow_autofit =True\n",
        "t.autofit = True\n",
        "\n",
        "for j in range(df.shape[-1]):\n",
        "    t.cell(0,j).text = df.columns[j]\n",
        "\n",
        "for i in range(df.shape[0]):\n",
        "    for j in range(df.shape[-1]):\n",
        "        t.cell(i+1,j).text = str(df.values[i,j])\n",
        "\n",
        "for row in t.rows:\n",
        "    for cell in row.cells:\n",
        "        paragraphs = cell.paragraphs\n",
        "        for paragraph in paragraphs:\n",
        "            for run in paragraph.runs:\n",
        "                font = run.font\n",
        "                font.size= Pt(6)\n",
        "\n",
        "# Justify all the paragraphs\n",
        "p.alignment = WD_ALIGN_PARAGRAPH.JUSTIFY\n",
        "p2.alignment = WD_ALIGN_PARAGRAPH.JUSTIFY\n",
        "p3.alignment = WD_ALIGN_PARAGRAPH.JUSTIFY\n",
        "p4.alignment = WD_ALIGN_PARAGRAPH.JUSTIFY\n",
        "\n",
        "document.save('{}_{}.doc'.format(TituloPag.replace(\" \",\"\"),Ctr.replace(r\"®\",\"\").replace(r\" \",\"\")))"
      ],
      "metadata": {
        "id": "uVFr3WT3XgxA"
      },
      "execution_count": 98,
      "outputs": []
    },
    {
      "cell_type": "markdown",
      "metadata": {
        "id": "k9od55gr_S-u"
      },
      "source": [
        "# Exercise 3: \n",
        "  - Choose a web page you want and do web scraping using the Scrapy library."
      ]
    },
    {
      "metadata": {
        "id": "XfRM9EvHJRgI"
      },
      "cell_type": "markdown",
      "source": [
        "Xpath checking"
      ]
    },
    {
      "cell_type": "code",
      "source": [
        "url = 'https://esenciacosmetics.com/3-esenciaspaises?id_category={}&n={}'.format(3, 31)\n",
        "print(url)"
      ],
      "metadata": {
        "colab": {
          "base_uri": "https://localhost:8080/"
        },
        "id": "GXHH-nnYKkcs",
        "outputId": "a0f7cdfc-ae48-462a-9ffb-1c4fd56796f4"
      },
      "execution_count": 104,
      "outputs": [
        {
          "output_type": "stream",
          "name": "stdout",
          "text": [
            "https://esenciacosmetics.com/3-esenciaspaises?id_category=3&n=31\n"
          ]
        }
      ]
    },
    {
      "cell_type": "markdown",
      "source": [
        "Make header"
      ],
      "metadata": {
        "id": "rIEnXHK7P7tC"
      }
    },
    {
      "cell_type": "code",
      "source": [
        "headers = {'user-agent': UserAgent().Chrome}"
      ],
      "metadata": {
        "id": "WOcFVICcMGT7"
      },
      "execution_count": 105,
      "outputs": []
    },
    {
      "cell_type": "code",
      "source": [
        "print(headers)"
      ],
      "metadata": {
        "id": "dzL8dTTTKu7V",
        "colab": {
          "base_uri": "https://localhost:8080/"
        },
        "outputId": "be2fb59d-dedb-4b05-b4b8-5afb039acfe9"
      },
      "execution_count": 106,
      "outputs": [
        {
          "output_type": "stream",
          "name": "stdout",
          "text": [
            "{'user-agent': 'Mozilla/5.0 (Windows NT 6.3; WOW64) AppleWebKit/537.36 (KHTML, like Gecko) Chrome/41.0.2226.0 Safari/537.36'}\n"
          ]
        }
      ]
    },
    {
      "cell_type": "markdown",
      "source": [
        "Make request"
      ],
      "metadata": {
        "id": "VEC6q6WIQF8f"
      }
    },
    {
      "cell_type": "code",
      "source": [
        "res = requests.get(url, headers=headers)\n",
        "print(res)"
      ],
      "metadata": {
        "id": "pXdpv949KkfL",
        "colab": {
          "base_uri": "https://localhost:8080/"
        },
        "outputId": "ee772427-fdaf-4211-870d-7fb1352f621d"
      },
      "execution_count": 107,
      "outputs": [
        {
          "output_type": "stream",
          "name": "stdout",
          "text": [
            "<Response [200]>\n"
          ]
        }
      ]
    },
    {
      "cell_type": "markdown",
      "source": [
        "Get response"
      ],
      "metadata": {
        "id": "shTr1R-sQKv-"
      }
    },
    {
      "cell_type": "code",
      "source": [
        "response = TextResponse(res.url, body=res.text, encoding='utf-8')\n",
        "print(response)"
      ],
      "metadata": {
        "id": "2_yzEYukKo_Y",
        "colab": {
          "base_uri": "https://localhost:8080/"
        },
        "outputId": "5bd013cc-a3c1-472f-dd12-63c174c0c52d"
      },
      "execution_count": 110,
      "outputs": [
        {
          "output_type": "stream",
          "name": "stdout",
          "text": [
            "<200 https://esenciacosmetics.com/3-esenciaspaises?id_category=3&n=31>\n"
          ]
        }
      ]
    },
    {
      "cell_type": "markdown",
      "source": [
        "Check links by xpath"
      ],
      "metadata": {
        "id": "9Ph_xf6BQPgn"
      }
    },
    {
      "cell_type": "code",
      "source": [
        "links = response.xpath('//*[@class=\"product_list grid row\"]/li/div/div/div[1]/a/@href').extract()\n",
        "links"
      ],
      "metadata": {
        "id": "Y3eTj5wBdG1P",
        "colab": {
          "base_uri": "https://localhost:8080/"
        },
        "outputId": "26f242f0-cd32-46f0-dde8-0b9a2d07f60e"
      },
      "execution_count": 111,
      "outputs": [
        {
          "output_type": "execute_result",
          "data": {
            "text/plain": [
              "['https://esenciacosmetics.com/esenciaspaises/28-brasil-champu-color-protect-de-acai.html',\n",
              " 'https://esenciacosmetics.com/esenciaspaises/29-brasil-crema-acondicionadora-color-protect-de-acai.html',\n",
              " 'https://esenciacosmetics.com/esenciaspaises/42-brasil-pack-supercolor-de-acai.html',\n",
              " 'https://esenciacosmetics.com/esenciaspaises/4-brasil-rostro-radiante-de-acai-crema-de-dia.html',\n",
              " 'https://esenciacosmetics.com/esenciaspaises/25-corea-antiaging-manos-de-ginseng-vegana.html',\n",
              " 'https://esenciacosmetics.com/esenciaspaises/31-corea-crema-acondicionadora-estimulante-de-ginseng.html',\n",
              " 'https://esenciacosmetics.com/esenciaspaises/10-corea-crema-facial-antiedad-rejuvenecedora-de-ginseng.html',\n",
              " 'https://esenciacosmetics.com/esenciaspaises/43-corea-pack-hair-stimulator-de-ginseng.html',\n",
              " 'https://esenciacosmetics.com/esenciaspaises/52-corea-ritual-antiedad-total-cara-y-manos-de-ginseng.html',\n",
              " 'https://esenciacosmetics.com/esenciaspaises/50-india-pack-antimanchas-total-manos-y-cara-de-azafran.html',\n",
              " 'https://esenciacosmetics.com/esenciaspaises/17-italia-crema-corporal-superhidratante-de-lirio-blanco-vegana.html',\n",
              " 'https://esenciacosmetics.com/esenciaspaises/57-italia-pack-superhidratante-cara-y-cuerpo-de-lirio.html',\n",
              " 'https://esenciacosmetics.com/esenciaspaises/2-italia-rostro-hiperhidratado-noche-de-lirio-blanco.html',\n",
              " 'https://esenciacosmetics.com/esenciaspaises/20-la-india-crema-antimanchas-manos-de-azafran-vegana.html',\n",
              " 'https://esenciacosmetics.com/esenciaspaises/8-la-india-difuminador-manchas-facial-noche-de-azafran.html',\n",
              " 'https://esenciacosmetics.com/esenciaspaises/38-malasia-champu-anticaida-de-centella-asiatica.html',\n",
              " 'https://esenciacosmetics.com/esenciaspaises/39-malasia-crema-acondicionadora-anticaida-de-centella-asiatica.html',\n",
              " 'https://esenciacosmetics.com/esenciaspaises/16-malasia-crema-ultraintensiva-anticelulitica-de-centella-asiatica.html',\n",
              " 'https://esenciacosmetics.com/esenciaspaises/47-malasia-plan-anticaida-de-centella-asiatica.html',\n",
              " 'https://esenciacosmetics.com/esenciaspaises/56-mexico-piel-regenerada-de-tepezcohuite-vegana.html',\n",
              " 'https://esenciacosmetics.com/esenciaspaises/55-mexico-poder-regenerador-rostro-de-tepezcohuite.html',\n",
              " 'https://esenciacosmetics.com/esenciaspaises/54-mexico-y-oman-elixir-reparador-facial-piel-grasa.html',\n",
              " 'https://esenciacosmetics.com/esenciaspaises/32-oman-champu-purificante-de-incienso.html',\n",
              " 'https://esenciacosmetics.com/esenciaspaises/33-oman-crema-acondicionadora-purificante-de-incienso.html',\n",
              " 'https://esenciacosmetics.com/esenciaspaises/6-oman-purifiying-skin-facial-noche-de-incienso.html',\n",
              " 'https://esenciacosmetics.com/esenciaspaises/44-oman-ritual-purificante-capilar-de-incienso.html',\n",
              " 'https://esenciacosmetics.com/esenciaspaises/19-senegal-piel-tersa-reafirmada-cuerpo-de-kigelia-vegana.html',\n",
              " 'https://esenciacosmetics.com/esenciaspaises/22-senegal-poder-reafirmante-manos-de-kigelia-vegana.html',\n",
              " 'https://esenciacosmetics.com/esenciaspaises/1-senegal-tratamiento-remodelador-rostro-de-kigelia.html',\n",
              " 'https://esenciacosmetics.com/esenciaspaises/5-tibet-crema-revitalizante-antioxidante-rostro-de-goji.html',\n",
              " 'https://esenciacosmetics.com/esenciaspaises/26-tibet-manos-revitalizadas-de-goji-vegana.html']"
            ]
          },
          "metadata": {},
          "execution_count": 111
        }
      ]
    },
    {
      "cell_type": "markdown",
      "source": [
        "Check prducts titles by xpath"
      ],
      "metadata": {
        "id": "aYj-qjsyQZUb"
      }
    },
    {
      "cell_type": "code",
      "source": [
        "titles = response.xpath('//*[@class=\"product_list grid row\"]/li/div/div/div[2]/h5/a/@title').extract()\n",
        "titles"
      ],
      "metadata": {
        "id": "DfEuxImMmvur",
        "colab": {
          "base_uri": "https://localhost:8080/"
        },
        "outputId": "86f94284-d2dd-49fe-d6e4-1b1e0110117f"
      },
      "execution_count": 112,
      "outputs": [
        {
          "output_type": "execute_result",
          "data": {
            "text/plain": [
              "['Brasil - champú COLOR PROTECT de açai',\n",
              " 'Brasil - crema acondicionadora COLOR PROTECT de açai',\n",
              " 'Brasil - pack SUPERCOLOR de açai',\n",
              " 'Brasil - rostro RADIANTE de açai crema de día',\n",
              " 'Corea - ANTIAGING MANOS de ginseng (VEGANA)',\n",
              " 'Corea - crema acondicionadora ESTIMULANTE de ginseng',\n",
              " 'Corea - crema facial ANTIEDAD REJUVENECEDORA de ginseng',\n",
              " 'Corea - pack HAIR STIMULATOR de ginseng',\n",
              " 'Corea - ritual ANTIEDAD TOTAL cara y manos de ginseng',\n",
              " 'India - pack ANTIMANCHAS TOTAL manos y cara de azafrán',\n",
              " 'Italia - crema corporal SUPERHIDRATANTE de lirio blanco (VEGANA)',\n",
              " 'Italia - pack SUPERHIDRATANTE cara y cuerpo de LIRIO',\n",
              " 'Italia - rostro HIPERHIDRATADO noche de lirio blanco',\n",
              " 'La India - crema ANTIMANCHAS manos de azafrán (VEGANA)',\n",
              " 'La India - DIFUMINADOR MANCHAS facial noche de azafrán',\n",
              " 'Malasia - champú ANTICAÍDA de centella asiática',\n",
              " 'Malasia - crema acondicionadora ANTICAÍDA de centella asiática',\n",
              " 'Malasia - crema ULTRAINTENSIVA ANTICELULÍTICA de centella asiática',\n",
              " 'Malasia - PLAN ANTICAÍDA de centella asiática',\n",
              " 'México - piel REGENERADA de tepezcohuite (VEGANA)',\n",
              " 'México - PODER REGENERADOR rostro de tepezcohuite',\n",
              " 'México y Omán - Elixir REPARADOR facial piel grasa',\n",
              " 'Omán - champú PURIFICANTE de incienso',\n",
              " 'Omán - crema acondicionadora PURIFICANTE de incienso',\n",
              " 'Omán - PURIFIYING SKIN facial noche de incienso',\n",
              " 'Omán - RITUAL PURIFICANTE capilar de incienso',\n",
              " 'Senegal - piel TERSA REAFIRMADA cuerpo de kigelia (VEGANA)',\n",
              " 'Senegal - PODER REAFIRMANTE manos de kigelia (VEGANA)',\n",
              " 'Senegal - tratamiento REMODELADOR rostro de Kigelia',\n",
              " 'Tibet - crema REVITALIZANTE ANTIOXIDANTE rostro de goji',\n",
              " 'Tibet - manos REVITALIZADAS de goji (VEGANA)']"
            ]
          },
          "metadata": {},
          "execution_count": 112
        }
      ]
    },
    {
      "cell_type": "markdown",
      "source": [
        "Check prices by xpath"
      ],
      "metadata": {
        "id": "jn3OBV2oQfwW"
      }
    },
    {
      "cell_type": "code",
      "source": [
        "prices = response.xpath('//*[@class=\"product_list grid row\"]/li/div/div/div[2]/div[1]/span[1]/text()').extract()\n",
        "prices"
      ],
      "metadata": {
        "id": "TABmn-zSkXrr",
        "colab": {
          "base_uri": "https://localhost:8080/"
        },
        "outputId": "4f0b7f12-1f0f-4c21-b6cc-65eff21cc564"
      },
      "execution_count": 113,
      "outputs": [
        {
          "output_type": "execute_result",
          "data": {
            "text/plain": [
              "['16,00 €',\n",
              " '18,00 €',\n",
              " '29,00 €',\n",
              " '24,95 €',\n",
              " '12,50 €',\n",
              " '18,00 €',\n",
              " '24,95 €',\n",
              " '29,00 €',\n",
              " '32,00 €',\n",
              " '32,00 €',\n",
              " '24,95 €',\n",
              " '45,00 €',\n",
              " '24,95 €',\n",
              " '12,50 €',\n",
              " '24,95 €',\n",
              " '16,00 €',\n",
              " '18,00 €',\n",
              " '27,00 €',\n",
              " '29,00 €',\n",
              " '24,95 €',\n",
              " '24,95 €',\n",
              " '45,00 €',\n",
              " '16,00 €',\n",
              " '18,00 €',\n",
              " '24,95 €',\n",
              " '29,00 €',\n",
              " '24,95 €',\n",
              " '12,50 €',\n",
              " '24,95 €',\n",
              " '24,95 €',\n",
              " '12,50 €']"
            ]
          },
          "metadata": {},
          "execution_count": 113
        }
      ]
    },
    {
      "cell_type": "markdown",
      "source": [
        "Check images sources by xpath"
      ],
      "metadata": {
        "id": "zb1wgHiaQiaB"
      }
    },
    {
      "cell_type": "code",
      "source": [
        "imgs =  response.xpath('//*[@class=\"product_list grid row\"]/li/div/div/div[1]/a/img/@src').extract()\n",
        "imgs"
      ],
      "metadata": {
        "id": "wghpKSStmSYz",
        "colab": {
          "base_uri": "https://localhost:8080/"
        },
        "outputId": "727df521-83e7-4161-fc51-1644b266b63d"
      },
      "execution_count": 114,
      "outputs": [
        {
          "output_type": "execute_result",
          "data": {
            "text/plain": [
              "['https://esenciacosmetics.com/166-home_default/brasil-champu-color-protect-de-acai.jpg',\n",
              " 'https://esenciacosmetics.com/131-home_default/brasil-crema-acondicionadora-color-protect-de-acai.jpg',\n",
              " 'https://esenciacosmetics.com/170-home_default/brasil-pack-supercolor-de-acai.jpg',\n",
              " 'https://esenciacosmetics.com/115-home_default/brasil-rostro-radiante-de-acai-crema-de-dia.jpg',\n",
              " 'https://esenciacosmetics.com/184-home_default/corea-antiaging-manos-de-ginseng-vegana.jpg',\n",
              " 'https://esenciacosmetics.com/132-home_default/corea-crema-acondicionadora-estimulante-de-ginseng.jpg',\n",
              " 'https://esenciacosmetics.com/83-home_default/corea-crema-facial-antiedad-rejuvenecedora-de-ginseng.jpg',\n",
              " 'https://esenciacosmetics.com/172-home_default/corea-pack-hair-stimulator-de-ginseng.jpg',\n",
              " 'https://esenciacosmetics.com/154-home_default/corea-ritual-antiedad-total-cara-y-manos-de-ginseng.jpg',\n",
              " 'https://esenciacosmetics.com/197-home_default/india-pack-antimanchas-total-manos-y-cara-de-azafran.jpg',\n",
              " 'https://esenciacosmetics.com/187-home_default/italia-crema-corporal-superhidratante-de-lirio-blanco-vegana.jpg',\n",
              " 'https://esenciacosmetics.com/199-home_default/italia-pack-superhidratante-cara-y-cuerpo-de-lirio.jpg',\n",
              " 'https://esenciacosmetics.com/194-home_default/italia-rostro-hiperhidratado-noche-de-lirio-blanco.jpg',\n",
              " 'https://esenciacosmetics.com/181-home_default/la-india-crema-antimanchas-manos-de-azafran-vegana.jpg',\n",
              " 'https://esenciacosmetics.com/192-home_default/la-india-difuminador-manchas-facial-noche-de-azafran.jpg',\n",
              " 'https://esenciacosmetics.com/168-home_default/malasia-champu-anticaida-de-centella-asiatica.jpg',\n",
              " 'https://esenciacosmetics.com/137-home_default/malasia-crema-acondicionadora-anticaida-de-centella-asiatica.jpg',\n",
              " 'https://esenciacosmetics.com/185-home_default/malasia-crema-ultraintensiva-anticelulitica-de-centella-asiatica.jpg',\n",
              " 'https://esenciacosmetics.com/173-home_default/malasia-plan-anticaida-de-centella-asiatica.jpg',\n",
              " 'https://esenciacosmetics.com/190-home_default/mexico-piel-regenerada-de-tepezcohuite-vegana.jpg',\n",
              " 'https://esenciacosmetics.com/162-home_default/mexico-poder-regenerador-rostro-de-tepezcohuite.jpg',\n",
              " 'https://esenciacosmetics.com/196-home_default/mexico-y-oman-elixir-reparador-facial-piel-grasa.jpg',\n",
              " 'https://esenciacosmetics.com/167-home_default/oman-champu-purificante-de-incienso.jpg',\n",
              " 'https://esenciacosmetics.com/158-home_default/oman-crema-acondicionadora-purificante-de-incienso.jpg',\n",
              " 'https://esenciacosmetics.com/193-home_default/oman-purifiying-skin-facial-noche-de-incienso.jpg',\n",
              " 'https://esenciacosmetics.com/171-home_default/oman-ritual-purificante-capilar-de-incienso.jpg',\n",
              " 'https://esenciacosmetics.com/191-home_default/senegal-piel-tersa-reafirmada-cuerpo-de-kigelia-vegana.jpg',\n",
              " 'https://esenciacosmetics.com/183-home_default/senegal-poder-reafirmante-manos-de-kigelia-vegana.jpg',\n",
              " 'https://esenciacosmetics.com/86-home_default/senegal-tratamiento-remodelador-rostro-de-kigelia.jpg',\n",
              " 'https://esenciacosmetics.com/84-home_default/tibet-crema-revitalizante-antioxidante-rostro-de-goji.jpg',\n",
              " 'https://esenciacosmetics.com/182-home_default/tibet-manos-revitalizadas-de-goji-vegana.jpg']"
            ]
          },
          "metadata": {},
          "execution_count": 114
        }
      ]
    },
    {
      "metadata": {
        "id": "9mOYwNmJJRgl"
      },
      "cell_type": "markdown",
      "source": [
        "### Make scrapy project"
      ]
    },
    {
      "metadata": {
        "trusted": false,
        "id": "2zzmWe-XJRgm",
        "colab": {
          "base_uri": "https://localhost:8080/"
        },
        "outputId": "06f191ab-dd63-4797-e14c-aff0bc9d9695"
      },
      "cell_type": "code",
      "source": [
        "!scrapy startproject esenciacosmetics"
      ],
      "execution_count": 115,
      "outputs": [
        {
          "output_type": "stream",
          "name": "stdout",
          "text": [
            "New Scrapy project 'esenciacosmetics', using template directory '/usr/local/lib/python3.7/dist-packages/scrapy/templates/project', created in:\n",
            "    /content/esenciacosmetics\n",
            "\n",
            "You can start your first spider with:\n",
            "    cd esenciacosmetics\n",
            "    scrapy genspider example example.com\n"
          ]
        }
      ]
    },
    {
      "cell_type": "markdown",
      "source": [
        "write items.py file"
      ],
      "metadata": {
        "id": "I8ReYTwbQq0N"
      }
    },
    {
      "metadata": {
        "trusted": false,
        "id": "YpXZk3akJRgo",
        "colab": {
          "base_uri": "https://localhost:8080/"
        },
        "outputId": "24362002-b41d-4276-8b80-c2070380d59e"
      },
      "cell_type": "code",
      "source": [
        "%%writefile esenciacosmetics/esenciacosmetics/items.py\n",
        "import scrapy\n",
        "\n",
        "class EsenciacosmeticsItem(scrapy.Item):\n",
        "    title = scrapy.Field()\n",
        "    price = scrapy.Field()\n",
        "    img = scrapy.Field()\n",
        "    link = scrapy.Field()\n",
        "    \n",
        "    def to_dict(self):\n",
        "        ### For conveneince\n",
        "        data= {'title': self['title'],\n",
        "                'price': self['price'],\n",
        "                'img': self['img'],\n",
        "                'link': self['link']}\n",
        "        return data"
      ],
      "execution_count": 116,
      "outputs": [
        {
          "output_type": "stream",
          "name": "stdout",
          "text": [
            "Overwriting esenciacosmetics/esenciacosmetics/items.py\n"
          ]
        }
      ]
    },
    {
      "cell_type": "markdown",
      "source": [
        "Check items.py file"
      ],
      "metadata": {
        "id": "wDNeHv4bQzX0"
      }
    },
    {
      "cell_type": "code",
      "source": [
        "!cat esenciacosmetics/esenciacosmetics/items.py"
      ],
      "metadata": {
        "id": "qIDpkmoW4iWb",
        "colab": {
          "base_uri": "https://localhost:8080/"
        },
        "outputId": "12c6124d-ac95-4d92-a6fb-7f9f53b72caa"
      },
      "execution_count": 117,
      "outputs": [
        {
          "output_type": "stream",
          "name": "stdout",
          "text": [
            "import scrapy\n",
            "\n",
            "class EsenciacosmeticsItem(scrapy.Item):\n",
            "    title = scrapy.Field()\n",
            "    price = scrapy.Field()\n",
            "    img = scrapy.Field()\n",
            "    link = scrapy.Field()\n",
            "    \n",
            "    def to_dict(self):\n",
            "        ### For conveneince\n",
            "        data= {'title': self['title'],\n",
            "                'price': self['price'],\n",
            "                'img': self['img'],\n",
            "                'link': self['link']}\n",
            "        return data"
          ]
        }
      ]
    },
    {
      "cell_type": "markdown",
      "source": [
        "Write spider.py file"
      ],
      "metadata": {
        "id": "6dITsHe0Q55l"
      }
    },
    {
      "metadata": {
        "trusted": false,
        "id": "5Uz1Hzw8JRgp",
        "colab": {
          "base_uri": "https://localhost:8080/"
        },
        "outputId": "ca996adb-503f-4ff9-d058-25a249d41eb8"
      },
      "cell_type": "code",
      "source": [
        "%%writefile esenciacosmetics/esenciacosmetics/spiders/spider.py\n",
        "import scrapy\n",
        "from esenciacosmetics.items import EsenciacosmeticsItem\n",
        "import scrapy_fake_useragent\n",
        "\n",
        "class EsenciacosmeticsSpider(scrapy.Spider):\n",
        "    name = 'EsenciacosmeticsSpider'\n",
        "    custom_settings = {\n",
        "        'DOWNLOADER_MIDDLEWARES' : {\n",
        "            'scrapy.downloadermiddlewares.useragent.UserAgentMiddleware' : None,\n",
        "            'scrapy_fake_useragent.middleware.RandomUserAgentMiddleware' : 300,\n",
        "        }\n",
        "    }\n",
        "\n",
        "    def __init__(self, cat1=3, cat2=31, **kwargs):\n",
        "        self.start_url = 'https://esenciacosmetics.com/3-esenciaspaises?id_category={}&n={}'.format(cat1, cat2)\n",
        "        super().__init__(**kwargs)\n",
        "        \n",
        "    def start_requests(self):\n",
        "        import requests\n",
        "        from fake_useragent import UserAgent\n",
        "        from scrapy.http import TextResponse\n",
        "        \n",
        "        # Iterate all pages\n",
        "        headers = {'user-agent': UserAgent().Chrome}\n",
        "        res = requests.get(self.start_url, headers=headers)\n",
        "        response = TextResponse(res.url, body=res.text, encoding='utf-8')\n",
        "        urls = response.xpath('//*[@class=\"product_list grid row\"]/li/div/div/div[1]/a/@href').extract()\n",
        "        for url in urls:\n",
        "            yield scrapy.Request(url, callback=self.parse_page)\n",
        "            \n",
        "    def parse_page(self, response):\n",
        "        item = EsenciacosmeticsItem()\n",
        "        item['title'] = response.xpath('//*[@class=\"product_main_name\"]/text()').extract()\n",
        "        item['price'] = response.xpath('//*[@id=\"our_price_display\"]/text()').extract()\n",
        "        item['img'] = response.xpath('//*[@id=\"bigpic\"]/@src').extract()[0]\n",
        "        item['link'] = response.url\n",
        "        yield item"
      ],
      "execution_count": 120,
      "outputs": [
        {
          "output_type": "stream",
          "name": "stdout",
          "text": [
            "Writing esenciacosmetics/esenciacosmetics/spiders/spider.py\n"
          ]
        }
      ]
    },
    {
      "cell_type": "markdown",
      "source": [
        "Check spider.py file"
      ],
      "metadata": {
        "id": "z20jrslEQ-IB"
      }
    },
    {
      "cell_type": "code",
      "source": [
        "!cat esenciacosmetics/esenciacosmetics/spiders/spider.py"
      ],
      "metadata": {
        "id": "pDiDzbFauTUv",
        "colab": {
          "base_uri": "https://localhost:8080/"
        },
        "outputId": "6b4798d9-fe7c-42ed-9e09-9933f2e07e10"
      },
      "execution_count": 121,
      "outputs": [
        {
          "output_type": "stream",
          "name": "stdout",
          "text": [
            "import scrapy\n",
            "from esenciacosmetics.items import EsenciacosmeticsItem\n",
            "import scrapy_fake_useragent\n",
            "\n",
            "class EsenciacosmeticsSpider(scrapy.Spider):\n",
            "    name = 'EsenciacosmeticsSpider'\n",
            "    custom_settings = {\n",
            "        'DOWNLOADER_MIDDLEWARES' : {\n",
            "            'scrapy.downloadermiddlewares.useragent.UserAgentMiddleware' : None,\n",
            "            'scrapy_fake_useragent.middleware.RandomUserAgentMiddleware' : 300,\n",
            "        }\n",
            "    }\n",
            "\n",
            "    def __init__(self, cat1=3, cat2=31, **kwargs):\n",
            "        self.start_url = 'https://esenciacosmetics.com/3-esenciaspaises?id_category={}&n={}'.format(cat1, cat2)\n",
            "        super().__init__(**kwargs)\n",
            "        \n",
            "    def start_requests(self):\n",
            "        import requests\n",
            "        from fake_useragent import UserAgent\n",
            "        from scrapy.http import TextResponse\n",
            "        \n",
            "        # Iterate all pages\n",
            "        headers = {'user-agent': UserAgent().Chrome}\n",
            "        res = requests.get(self.start_url, headers=headers)\n",
            "        response = TextResponse(res.url, body=res.text, encoding='utf-8')\n",
            "        urls = response.xpath('//*[@class=\"product_list grid row\"]/li/div/div/div[1]/a/@href').extract()\n",
            "        for url in urls:\n",
            "            yield scrapy.Request(url, callback=self.parse_page)\n",
            "            \n",
            "    def parse_page(self, response):\n",
            "        item = EsenciacosmeticsItem()\n",
            "        item['title'] = response.xpath('//*[@class=\"product_main_name\"]/text()').extract()\n",
            "        item['price'] = response.xpath('//*[@id=\"our_price_display\"]/text()').extract()\n",
            "        item['img'] = response.xpath('//*[@id=\"bigpic\"]/@src').extract()[0]\n",
            "        item['link'] = response.url\n",
            "        yield item"
          ]
        }
      ]
    },
    {
      "cell_type": "markdown",
      "source": [
        "Write run.sh file"
      ],
      "metadata": {
        "id": "FbyXF2XyRB5w"
      }
    },
    {
      "metadata": {
        "trusted": false,
        "id": "bV6hYrFfJRgr",
        "colab": {
          "base_uri": "https://localhost:8080/"
        },
        "outputId": "1fd09d08-abd6-4c36-bc4e-e7bb6b627082"
      },
      "cell_type": "code",
      "source": [
        "%%writefile run.sh\n",
        "cd esenciacosmetics\n",
        "scrapy crawl EsenciacosmeticsSpider -o Esenciacosmetics.csv -a cat1=3 -a cat2=31"
      ],
      "execution_count": 139,
      "outputs": [
        {
          "output_type": "stream",
          "name": "stdout",
          "text": [
            "Writing run.sh\n"
          ]
        }
      ]
    },
    {
      "cell_type": "markdown",
      "source": [
        "Check run.sh file"
      ],
      "metadata": {
        "id": "iOKIL9eNRIC3"
      }
    },
    {
      "cell_type": "code",
      "source": [
        "!cat ./run.sh"
      ],
      "metadata": {
        "colab": {
          "base_uri": "https://localhost:8080/"
        },
        "id": "Pu41NEKTODKJ",
        "outputId": "9cd47b19-67a0-4c53-89bd-25bdf3f8bcbe"
      },
      "execution_count": 140,
      "outputs": [
        {
          "output_type": "stream",
          "name": "stdout",
          "text": [
            "cd esenciacosmetics\n",
            "scrapy crawl EsenciacosmeticsSpider -o Esenciacosmetics.csv -a cat1=3 -a cat2=31"
          ]
        }
      ]
    },
    {
      "cell_type": "markdown",
      "source": [
        "Check access permissions "
      ],
      "metadata": {
        "id": "tLTngC83RKMT"
      }
    },
    {
      "cell_type": "code",
      "source": [
        "!ls -l run.sh"
      ],
      "metadata": {
        "colab": {
          "base_uri": "https://localhost:8080/"
        },
        "id": "HZ5-avv8TJBH",
        "outputId": "aea02d82-62a5-4113-f06b-7f58b2b9661c"
      },
      "execution_count": 141,
      "outputs": [
        {
          "output_type": "stream",
          "name": "stdout",
          "text": [
            "-rw-r--r-- 1 root root 100 Feb 16 06:59 run.sh\n"
          ]
        }
      ]
    },
    {
      "cell_type": "markdown",
      "source": [
        "Change the access permissions of file"
      ],
      "metadata": {
        "id": "AQBJV3NdTvvU"
      }
    },
    {
      "cell_type": "code",
      "source": [
        "!chmod +x run.sh"
      ],
      "metadata": {
        "id": "jJoL11syO_1U"
      },
      "execution_count": 142,
      "outputs": []
    },
    {
      "cell_type": "markdown",
      "source": [
        "Check access permissions "
      ],
      "metadata": {
        "id": "hnQxC6n3TzKF"
      }
    },
    {
      "cell_type": "code",
      "source": [
        "!ls -l run.sh"
      ],
      "metadata": {
        "id": "nOW_OoOpxAiw",
        "colab": {
          "base_uri": "https://localhost:8080/"
        },
        "outputId": "512f235c-aca4-435c-9b10-e275c1e38a88"
      },
      "execution_count": 143,
      "outputs": [
        {
          "output_type": "stream",
          "name": "stdout",
          "text": [
            "-rwxr-xr-x 1 root root 100 Feb 16 06:59 run.sh\n"
          ]
        }
      ]
    },
    {
      "cell_type": "markdown",
      "source": [
        "Execute run.sh"
      ],
      "metadata": {
        "id": "_ZbOsKIhT1J3"
      }
    },
    {
      "metadata": {
        "trusted": false,
        "id": "f47WmpZ7JRgs",
        "colab": {
          "base_uri": "https://localhost:8080/"
        },
        "outputId": "dbc24fe2-b523-458a-b1bf-0dcb410fe266"
      },
      "cell_type": "code",
      "source": [
        "!./run.sh"
      ],
      "execution_count": 126,
      "outputs": [
        {
          "output_type": "stream",
          "name": "stdout",
          "text": [
            "2022-02-16 06:29:31 [scrapy.utils.log] INFO: Scrapy 2.5.1 started (bot: esenciacosmetics)\n",
            "2022-02-16 06:29:31 [scrapy.utils.log] INFO: Versions: lxml 4.2.6.0, libxml2 2.9.8, cssselect 1.1.0, parsel 1.6.0, w3lib 1.22.0, Twisted 22.1.0, Python 3.7.12 (default, Jan 15 2022, 18:48:18) - [GCC 7.5.0], pyOpenSSL 22.0.0 (OpenSSL 1.1.1m  14 Dec 2021), cryptography 36.0.1, Platform Linux-5.4.144+-x86_64-with-Ubuntu-18.04-bionic\n",
            "2022-02-16 06:29:31 [scrapy.utils.log] DEBUG: Using reactor: twisted.internet.epollreactor.EPollReactor\n",
            "2022-02-16 06:29:31 [scrapy.crawler] INFO: Overridden settings:\n",
            "{'BOT_NAME': 'esenciacosmetics',\n",
            " 'NEWSPIDER_MODULE': 'esenciacosmetics.spiders',\n",
            " 'ROBOTSTXT_OBEY': True,\n",
            " 'SPIDER_MODULES': ['esenciacosmetics.spiders']}\n",
            "2022-02-16 06:29:31 [scrapy.extensions.telnet] INFO: Telnet Password: 2f93e7d08f277aa0\n",
            "2022-02-16 06:29:31 [scrapy.middleware] INFO: Enabled extensions:\n",
            "['scrapy.extensions.corestats.CoreStats',\n",
            " 'scrapy.extensions.telnet.TelnetConsole',\n",
            " 'scrapy.extensions.memusage.MemoryUsage',\n",
            " 'scrapy.extensions.feedexport.FeedExporter',\n",
            " 'scrapy.extensions.logstats.LogStats']\n",
            "2022-02-16 06:29:31 [faker.factory] DEBUG: Not in REPL -> leaving logger event level as is.\n",
            "2022-02-16 06:29:31 [scrapy_fake_useragent.middleware] DEBUG: Loaded User-Agent provider: scrapy_fake_useragent.providers.FakeUserAgentProvider\n",
            "2022-02-16 06:29:31 [scrapy_fake_useragent.middleware] INFO: Using '<class 'scrapy_fake_useragent.providers.FakeUserAgentProvider'>' as the User-Agent provider\n",
            "2022-02-16 06:29:31 [scrapy.middleware] INFO: Enabled downloader middlewares:\n",
            "['scrapy.downloadermiddlewares.robotstxt.RobotsTxtMiddleware',\n",
            " 'scrapy.downloadermiddlewares.httpauth.HttpAuthMiddleware',\n",
            " 'scrapy_fake_useragent.middleware.RandomUserAgentMiddleware',\n",
            " 'scrapy.downloadermiddlewares.downloadtimeout.DownloadTimeoutMiddleware',\n",
            " 'scrapy.downloadermiddlewares.defaultheaders.DefaultHeadersMiddleware',\n",
            " 'scrapy.downloadermiddlewares.retry.RetryMiddleware',\n",
            " 'scrapy.downloadermiddlewares.redirect.MetaRefreshMiddleware',\n",
            " 'scrapy.downloadermiddlewares.httpcompression.HttpCompressionMiddleware',\n",
            " 'scrapy.downloadermiddlewares.redirect.RedirectMiddleware',\n",
            " 'scrapy.downloadermiddlewares.cookies.CookiesMiddleware',\n",
            " 'scrapy.downloadermiddlewares.httpproxy.HttpProxyMiddleware',\n",
            " 'scrapy.downloadermiddlewares.stats.DownloaderStats']\n",
            "2022-02-16 06:29:31 [scrapy.middleware] INFO: Enabled spider middlewares:\n",
            "['scrapy.spidermiddlewares.httperror.HttpErrorMiddleware',\n",
            " 'scrapy.spidermiddlewares.offsite.OffsiteMiddleware',\n",
            " 'scrapy.spidermiddlewares.referer.RefererMiddleware',\n",
            " 'scrapy.spidermiddlewares.urllength.UrlLengthMiddleware',\n",
            " 'scrapy.spidermiddlewares.depth.DepthMiddleware']\n",
            "2022-02-16 06:29:31 [scrapy.middleware] INFO: Enabled item pipelines:\n",
            "[]\n",
            "2022-02-16 06:29:31 [scrapy.core.engine] INFO: Spider opened\n",
            "2022-02-16 06:29:31 [scrapy.extensions.logstats] INFO: Crawled 0 pages (at 0 pages/min), scraped 0 items (at 0 items/min)\n",
            "2022-02-16 06:29:31 [scrapy.extensions.telnet] INFO: Telnet console listening on 127.0.0.1:6023\n",
            "/usr/local/lib/python3.7/dist-packages/requests/__init__.py:91: RequestsDependencyWarning: urllib3 (1.26.8) or chardet (3.0.4) doesn't match a supported version!\n",
            "  RequestsDependencyWarning)\n",
            "2022-02-16 06:29:31 [urllib3.connectionpool] DEBUG: Starting new HTTPS connection (1): esenciacosmetics.com:443\n",
            "2022-02-16 06:29:33 [urllib3.connectionpool] DEBUG: https://esenciacosmetics.com:443 \"GET /3-esenciaspaises?id_category=3&n=31 HTTP/1.1\" 200 27433\n",
            "2022-02-16 06:29:34 [scrapy.core.engine] DEBUG: Crawled (200) <GET https://esenciacosmetics.com/robots.txt> (referer: None)\n",
            "2022-02-16 06:29:35 [scrapy.core.engine] DEBUG: Crawled (200) <GET https://esenciacosmetics.com/esenciaspaises/28-brasil-champu-color-protect-de-acai.html> (referer: None)\n",
            "2022-02-16 06:29:35 [scrapy.core.scraper] DEBUG: Scraped from <200 https://esenciacosmetics.com/esenciaspaises/28-brasil-champu-color-protect-de-acai.html>\n",
            "{'img': 'https://esenciacosmetics.com/166-large_default/brasil-champu-color-protect-de-acai.jpg',\n",
            " 'link': 'https://esenciacosmetics.com/esenciaspaises/28-brasil-champu-color-protect-de-acai.html',\n",
            " 'price': ['16,00 €'],\n",
            " 'title': ['Brasil - champú COLOR PROTECT de açai']}\n",
            "2022-02-16 06:29:35 [scrapy.core.engine] DEBUG: Crawled (200) <GET https://esenciacosmetics.com/esenciaspaises/29-brasil-crema-acondicionadora-color-protect-de-acai.html> (referer: None)\n",
            "2022-02-16 06:29:35 [scrapy.core.engine] DEBUG: Crawled (200) <GET https://esenciacosmetics.com/esenciaspaises/4-brasil-rostro-radiante-de-acai-crema-de-dia.html> (referer: None)\n",
            "2022-02-16 06:29:35 [scrapy.core.engine] DEBUG: Crawled (200) <GET https://esenciacosmetics.com/esenciaspaises/43-corea-pack-hair-stimulator-de-ginseng.html> (referer: None)\n",
            "2022-02-16 06:29:35 [scrapy.core.engine] DEBUG: Crawled (200) <GET https://esenciacosmetics.com/esenciaspaises/31-corea-crema-acondicionadora-estimulante-de-ginseng.html> (referer: None)\n",
            "2022-02-16 06:29:35 [scrapy.core.engine] DEBUG: Crawled (200) <GET https://esenciacosmetics.com/esenciaspaises/10-corea-crema-facial-antiedad-rejuvenecedora-de-ginseng.html> (referer: None)\n",
            "2022-02-16 06:29:35 [scrapy.core.scraper] DEBUG: Scraped from <200 https://esenciacosmetics.com/esenciaspaises/29-brasil-crema-acondicionadora-color-protect-de-acai.html>\n",
            "{'img': 'https://esenciacosmetics.com/131-large_default/brasil-crema-acondicionadora-color-protect-de-acai.jpg',\n",
            " 'link': 'https://esenciacosmetics.com/esenciaspaises/29-brasil-crema-acondicionadora-color-protect-de-acai.html',\n",
            " 'price': ['18,00 €'],\n",
            " 'title': ['Brasil - crema acondicionadora COLOR PROTECT de açai']}\n",
            "2022-02-16 06:29:35 [scrapy.core.engine] DEBUG: Crawled (200) <GET https://esenciacosmetics.com/esenciaspaises/42-brasil-pack-supercolor-de-acai.html> (referer: None)\n",
            "2022-02-16 06:29:35 [scrapy.core.scraper] DEBUG: Scraped from <200 https://esenciacosmetics.com/esenciaspaises/4-brasil-rostro-radiante-de-acai-crema-de-dia.html>\n",
            "{'img': 'https://esenciacosmetics.com/115-large_default/brasil-rostro-radiante-de-acai-crema-de-dia.jpg',\n",
            " 'link': 'https://esenciacosmetics.com/esenciaspaises/4-brasil-rostro-radiante-de-acai-crema-de-dia.html',\n",
            " 'price': ['24,95 €'],\n",
            " 'title': ['Brasil - rostro RADIANTE de açai crema de día']}\n",
            "2022-02-16 06:29:35 [scrapy.core.scraper] DEBUG: Scraped from <200 https://esenciacosmetics.com/esenciaspaises/43-corea-pack-hair-stimulator-de-ginseng.html>\n",
            "{'img': 'https://esenciacosmetics.com/172-large_default/corea-pack-hair-stimulator-de-ginseng.jpg',\n",
            " 'link': 'https://esenciacosmetics.com/esenciaspaises/43-corea-pack-hair-stimulator-de-ginseng.html',\n",
            " 'price': ['29,00 €'],\n",
            " 'title': ['Corea - pack HAIR STIMULATOR de ginseng']}\n",
            "2022-02-16 06:29:35 [scrapy.core.scraper] DEBUG: Scraped from <200 https://esenciacosmetics.com/esenciaspaises/31-corea-crema-acondicionadora-estimulante-de-ginseng.html>\n",
            "{'img': 'https://esenciacosmetics.com/132-large_default/corea-crema-acondicionadora-estimulante-de-ginseng.jpg',\n",
            " 'link': 'https://esenciacosmetics.com/esenciaspaises/31-corea-crema-acondicionadora-estimulante-de-ginseng.html',\n",
            " 'price': ['18,00 €'],\n",
            " 'title': ['Corea - crema acondicionadora ESTIMULANTE de ginseng']}\n",
            "2022-02-16 06:29:35 [scrapy.core.scraper] DEBUG: Scraped from <200 https://esenciacosmetics.com/esenciaspaises/10-corea-crema-facial-antiedad-rejuvenecedora-de-ginseng.html>\n",
            "{'img': 'https://esenciacosmetics.com/83-large_default/corea-crema-facial-antiedad-rejuvenecedora-de-ginseng.jpg',\n",
            " 'link': 'https://esenciacosmetics.com/esenciaspaises/10-corea-crema-facial-antiedad-rejuvenecedora-de-ginseng.html',\n",
            " 'price': ['24,95 €'],\n",
            " 'title': ['Corea - crema facial ANTIEDAD REJUVENECEDORA de ginseng']}\n",
            "2022-02-16 06:29:36 [scrapy.core.scraper] DEBUG: Scraped from <200 https://esenciacosmetics.com/esenciaspaises/42-brasil-pack-supercolor-de-acai.html>\n",
            "{'img': 'https://esenciacosmetics.com/170-large_default/brasil-pack-supercolor-de-acai.jpg',\n",
            " 'link': 'https://esenciacosmetics.com/esenciaspaises/42-brasil-pack-supercolor-de-acai.html',\n",
            " 'price': ['29,00 €'],\n",
            " 'title': ['Brasil - pack SUPERCOLOR de açai']}\n",
            "2022-02-16 06:29:36 [scrapy.core.engine] DEBUG: Crawled (200) <GET https://esenciacosmetics.com/esenciaspaises/25-corea-antiaging-manos-de-ginseng-vegana.html> (referer: None)\n",
            "2022-02-16 06:29:36 [scrapy.core.scraper] DEBUG: Scraped from <200 https://esenciacosmetics.com/esenciaspaises/25-corea-antiaging-manos-de-ginseng-vegana.html>\n",
            "{'img': 'https://esenciacosmetics.com/184-large_default/corea-antiaging-manos-de-ginseng-vegana.jpg',\n",
            " 'link': 'https://esenciacosmetics.com/esenciaspaises/25-corea-antiaging-manos-de-ginseng-vegana.html',\n",
            " 'price': ['12,50 €'],\n",
            " 'title': ['Corea - ANTIAGING MANOS de ginseng (VEGANA)']}\n",
            "2022-02-16 06:29:36 [scrapy.core.engine] DEBUG: Crawled (200) <GET https://esenciacosmetics.com/esenciaspaises/52-corea-ritual-antiedad-total-cara-y-manos-de-ginseng.html> (referer: None)\n",
            "2022-02-16 06:29:36 [scrapy.core.scraper] DEBUG: Scraped from <200 https://esenciacosmetics.com/esenciaspaises/52-corea-ritual-antiedad-total-cara-y-manos-de-ginseng.html>\n",
            "{'img': 'https://esenciacosmetics.com/154-large_default/corea-ritual-antiedad-total-cara-y-manos-de-ginseng.jpg',\n",
            " 'link': 'https://esenciacosmetics.com/esenciaspaises/52-corea-ritual-antiedad-total-cara-y-manos-de-ginseng.html',\n",
            " 'price': ['32,00 €'],\n",
            " 'title': ['Corea - ritual ANTIEDAD TOTAL cara y manos de ginseng']}\n",
            "2022-02-16 06:29:36 [scrapy.core.engine] DEBUG: Crawled (200) <GET https://esenciacosmetics.com/esenciaspaises/50-india-pack-antimanchas-total-manos-y-cara-de-azafran.html> (referer: None)\n",
            "2022-02-16 06:29:37 [scrapy.core.engine] DEBUG: Crawled (200) <GET https://esenciacosmetics.com/esenciaspaises/8-la-india-difuminador-manchas-facial-noche-de-azafran.html> (referer: None)\n",
            "2022-02-16 06:29:37 [scrapy.core.engine] DEBUG: Crawled (200) <GET https://esenciacosmetics.com/esenciaspaises/57-italia-pack-superhidratante-cara-y-cuerpo-de-lirio.html> (referer: None)\n",
            "2022-02-16 06:29:37 [scrapy.core.engine] DEBUG: Crawled (200) <GET https://esenciacosmetics.com/esenciaspaises/17-italia-crema-corporal-superhidratante-de-lirio-blanco-vegana.html> (referer: None)\n",
            "2022-02-16 06:29:37 [scrapy.core.scraper] DEBUG: Scraped from <200 https://esenciacosmetics.com/esenciaspaises/50-india-pack-antimanchas-total-manos-y-cara-de-azafran.html>\n",
            "{'img': 'https://esenciacosmetics.com/197-large_default/india-pack-antimanchas-total-manos-y-cara-de-azafran.jpg',\n",
            " 'link': 'https://esenciacosmetics.com/esenciaspaises/50-india-pack-antimanchas-total-manos-y-cara-de-azafran.html',\n",
            " 'price': ['32,00 €'],\n",
            " 'title': ['India - pack ANTIMANCHAS TOTAL manos y cara de azafrán']}\n",
            "2022-02-16 06:29:37 [scrapy.core.engine] DEBUG: Crawled (200) <GET https://esenciacosmetics.com/esenciaspaises/2-italia-rostro-hiperhidratado-noche-de-lirio-blanco.html> (referer: None)\n",
            "2022-02-16 06:29:37 [scrapy.core.scraper] DEBUG: Scraped from <200 https://esenciacosmetics.com/esenciaspaises/8-la-india-difuminador-manchas-facial-noche-de-azafran.html>\n",
            "{'img': 'https://esenciacosmetics.com/192-large_default/la-india-difuminador-manchas-facial-noche-de-azafran.jpg',\n",
            " 'link': 'https://esenciacosmetics.com/esenciaspaises/8-la-india-difuminador-manchas-facial-noche-de-azafran.html',\n",
            " 'price': ['24,95 €'],\n",
            " 'title': ['La India - DIFUMINADOR MANCHAS facial noche de azafrán']}\n",
            "2022-02-16 06:29:37 [scrapy.core.engine] DEBUG: Crawled (200) <GET https://esenciacosmetics.com/esenciaspaises/20-la-india-crema-antimanchas-manos-de-azafran-vegana.html> (referer: None)\n",
            "2022-02-16 06:29:37 [scrapy.core.scraper] DEBUG: Scraped from <200 https://esenciacosmetics.com/esenciaspaises/57-italia-pack-superhidratante-cara-y-cuerpo-de-lirio.html>\n",
            "{'img': 'https://esenciacosmetics.com/199-large_default/italia-pack-superhidratante-cara-y-cuerpo-de-lirio.jpg',\n",
            " 'link': 'https://esenciacosmetics.com/esenciaspaises/57-italia-pack-superhidratante-cara-y-cuerpo-de-lirio.html',\n",
            " 'price': ['45,00 €'],\n",
            " 'title': ['Italia - pack SUPERHIDRATANTE cara y cuerpo de LIRIO']}\n",
            "2022-02-16 06:29:37 [scrapy.core.scraper] DEBUG: Scraped from <200 https://esenciacosmetics.com/esenciaspaises/17-italia-crema-corporal-superhidratante-de-lirio-blanco-vegana.html>\n",
            "{'img': 'https://esenciacosmetics.com/187-large_default/italia-crema-corporal-superhidratante-de-lirio-blanco-vegana.jpg',\n",
            " 'link': 'https://esenciacosmetics.com/esenciaspaises/17-italia-crema-corporal-superhidratante-de-lirio-blanco-vegana.html',\n",
            " 'price': ['24,95 €'],\n",
            " 'title': ['Italia - crema corporal SUPERHIDRATANTE de lirio blanco (VEGANA)']}\n",
            "2022-02-16 06:29:37 [scrapy.core.scraper] DEBUG: Scraped from <200 https://esenciacosmetics.com/esenciaspaises/2-italia-rostro-hiperhidratado-noche-de-lirio-blanco.html>\n",
            "{'img': 'https://esenciacosmetics.com/194-large_default/italia-rostro-hiperhidratado-noche-de-lirio-blanco.jpg',\n",
            " 'link': 'https://esenciacosmetics.com/esenciaspaises/2-italia-rostro-hiperhidratado-noche-de-lirio-blanco.html',\n",
            " 'price': ['24,95 €'],\n",
            " 'title': ['Italia - rostro HIPERHIDRATADO noche de lirio blanco']}\n",
            "2022-02-16 06:29:37 [scrapy.core.engine] DEBUG: Crawled (200) <GET https://esenciacosmetics.com/esenciaspaises/38-malasia-champu-anticaida-de-centella-asiatica.html> (referer: None)\n",
            "2022-02-16 06:29:37 [scrapy.core.scraper] DEBUG: Scraped from <200 https://esenciacosmetics.com/esenciaspaises/20-la-india-crema-antimanchas-manos-de-azafran-vegana.html>\n",
            "{'img': 'https://esenciacosmetics.com/181-large_default/la-india-crema-antimanchas-manos-de-azafran-vegana.jpg',\n",
            " 'link': 'https://esenciacosmetics.com/esenciaspaises/20-la-india-crema-antimanchas-manos-de-azafran-vegana.html',\n",
            " 'price': ['12,50 €'],\n",
            " 'title': ['La India - crema ANTIMANCHAS manos de azafrán (VEGANA)']}\n",
            "2022-02-16 06:29:37 [scrapy.core.scraper] DEBUG: Scraped from <200 https://esenciacosmetics.com/esenciaspaises/38-malasia-champu-anticaida-de-centella-asiatica.html>\n",
            "{'img': 'https://esenciacosmetics.com/168-large_default/malasia-champu-anticaida-de-centella-asiatica.jpg',\n",
            " 'link': 'https://esenciacosmetics.com/esenciaspaises/38-malasia-champu-anticaida-de-centella-asiatica.html',\n",
            " 'price': ['16,00 €'],\n",
            " 'title': ['Malasia - champú ANTICAÍDA de centella asiática']}\n",
            "2022-02-16 06:29:37 [scrapy.core.engine] DEBUG: Crawled (200) <GET https://esenciacosmetics.com/esenciaspaises/39-malasia-crema-acondicionadora-anticaida-de-centella-asiatica.html> (referer: None)\n",
            "2022-02-16 06:29:37 [scrapy.core.scraper] DEBUG: Scraped from <200 https://esenciacosmetics.com/esenciaspaises/39-malasia-crema-acondicionadora-anticaida-de-centella-asiatica.html>\n",
            "{'img': 'https://esenciacosmetics.com/137-large_default/malasia-crema-acondicionadora-anticaida-de-centella-asiatica.jpg',\n",
            " 'link': 'https://esenciacosmetics.com/esenciaspaises/39-malasia-crema-acondicionadora-anticaida-de-centella-asiatica.html',\n",
            " 'price': ['18,00 €'],\n",
            " 'title': ['Malasia - crema acondicionadora ANTICAÍDA de centella asiática']}\n",
            "2022-02-16 06:29:37 [scrapy.core.engine] DEBUG: Crawled (200) <GET https://esenciacosmetics.com/esenciaspaises/16-malasia-crema-ultraintensiva-anticelulitica-de-centella-asiatica.html> (referer: None)\n",
            "2022-02-16 06:29:37 [scrapy.core.engine] DEBUG: Crawled (200) <GET https://esenciacosmetics.com/esenciaspaises/47-malasia-plan-anticaida-de-centella-asiatica.html> (referer: None)\n",
            "2022-02-16 06:29:38 [scrapy.core.engine] DEBUG: Crawled (200) <GET https://esenciacosmetics.com/esenciaspaises/56-mexico-piel-regenerada-de-tepezcohuite-vegana.html> (referer: None)\n",
            "2022-02-16 06:29:38 [scrapy.core.engine] DEBUG: Crawled (200) <GET https://esenciacosmetics.com/esenciaspaises/55-mexico-poder-regenerador-rostro-de-tepezcohuite.html> (referer: None)\n",
            "2022-02-16 06:29:38 [scrapy.core.scraper] DEBUG: Scraped from <200 https://esenciacosmetics.com/esenciaspaises/16-malasia-crema-ultraintensiva-anticelulitica-de-centella-asiatica.html>\n",
            "{'img': 'https://esenciacosmetics.com/185-large_default/malasia-crema-ultraintensiva-anticelulitica-de-centella-asiatica.jpg',\n",
            " 'link': 'https://esenciacosmetics.com/esenciaspaises/16-malasia-crema-ultraintensiva-anticelulitica-de-centella-asiatica.html',\n",
            " 'price': ['27,00 €'],\n",
            " 'title': ['Malasia - crema ULTRAINTENSIVA ANTICELULÍTICA de centella '\n",
            "           'asiática']}\n",
            "2022-02-16 06:29:38 [scrapy.core.scraper] DEBUG: Scraped from <200 https://esenciacosmetics.com/esenciaspaises/47-malasia-plan-anticaida-de-centella-asiatica.html>\n",
            "{'img': 'https://esenciacosmetics.com/173-large_default/malasia-plan-anticaida-de-centella-asiatica.jpg',\n",
            " 'link': 'https://esenciacosmetics.com/esenciaspaises/47-malasia-plan-anticaida-de-centella-asiatica.html',\n",
            " 'price': ['29,00 €'],\n",
            " 'title': ['Malasia - PLAN ANTICAÍDA de centella asiática']}\n",
            "2022-02-16 06:29:38 [scrapy.core.engine] DEBUG: Crawled (200) <GET https://esenciacosmetics.com/esenciaspaises/54-mexico-y-oman-elixir-reparador-facial-piel-grasa.html> (referer: None)\n",
            "2022-02-16 06:29:38 [scrapy.core.scraper] DEBUG: Scraped from <200 https://esenciacosmetics.com/esenciaspaises/56-mexico-piel-regenerada-de-tepezcohuite-vegana.html>\n",
            "{'img': 'https://esenciacosmetics.com/190-large_default/mexico-piel-regenerada-de-tepezcohuite-vegana.jpg',\n",
            " 'link': 'https://esenciacosmetics.com/esenciaspaises/56-mexico-piel-regenerada-de-tepezcohuite-vegana.html',\n",
            " 'price': ['24,95 €'],\n",
            " 'title': ['México - piel REGENERADA de tepezcohuite (VEGANA)']}\n",
            "2022-02-16 06:29:38 [scrapy.core.engine] DEBUG: Crawled (200) <GET https://esenciacosmetics.com/esenciaspaises/32-oman-champu-purificante-de-incienso.html> (referer: None)\n",
            "2022-02-16 06:29:38 [scrapy.core.scraper] DEBUG: Scraped from <200 https://esenciacosmetics.com/esenciaspaises/55-mexico-poder-regenerador-rostro-de-tepezcohuite.html>\n",
            "{'img': 'https://esenciacosmetics.com/162-large_default/mexico-poder-regenerador-rostro-de-tepezcohuite.jpg',\n",
            " 'link': 'https://esenciacosmetics.com/esenciaspaises/55-mexico-poder-regenerador-rostro-de-tepezcohuite.html',\n",
            " 'price': ['24,95 €'],\n",
            " 'title': ['México - PODER REGENERADOR rostro de tepezcohuite']}\n",
            "2022-02-16 06:29:38 [scrapy.core.scraper] DEBUG: Scraped from <200 https://esenciacosmetics.com/esenciaspaises/54-mexico-y-oman-elixir-reparador-facial-piel-grasa.html>\n",
            "{'img': 'https://esenciacosmetics.com/196-large_default/mexico-y-oman-elixir-reparador-facial-piel-grasa.jpg',\n",
            " 'link': 'https://esenciacosmetics.com/esenciaspaises/54-mexico-y-oman-elixir-reparador-facial-piel-grasa.html',\n",
            " 'price': ['45,00 €'],\n",
            " 'title': ['México y Omán - Elixir REPARADOR facial piel grasa']}\n",
            "2022-02-16 06:29:38 [scrapy.core.scraper] DEBUG: Scraped from <200 https://esenciacosmetics.com/esenciaspaises/32-oman-champu-purificante-de-incienso.html>\n",
            "{'img': 'https://esenciacosmetics.com/167-large_default/oman-champu-purificante-de-incienso.jpg',\n",
            " 'link': 'https://esenciacosmetics.com/esenciaspaises/32-oman-champu-purificante-de-incienso.html',\n",
            " 'price': ['16,00 €'],\n",
            " 'title': ['Omán - champú PURIFICANTE de incienso']}\n",
            "2022-02-16 06:29:38 [scrapy.core.engine] DEBUG: Crawled (200) <GET https://esenciacosmetics.com/esenciaspaises/33-oman-crema-acondicionadora-purificante-de-incienso.html> (referer: None)\n",
            "2022-02-16 06:29:38 [scrapy.core.scraper] DEBUG: Scraped from <200 https://esenciacosmetics.com/esenciaspaises/33-oman-crema-acondicionadora-purificante-de-incienso.html>\n",
            "{'img': 'https://esenciacosmetics.com/158-large_default/oman-crema-acondicionadora-purificante-de-incienso.jpg',\n",
            " 'link': 'https://esenciacosmetics.com/esenciaspaises/33-oman-crema-acondicionadora-purificante-de-incienso.html',\n",
            " 'price': ['18,00 €'],\n",
            " 'title': ['Omán - crema acondicionadora PURIFICANTE de incienso']}\n",
            "2022-02-16 06:29:38 [scrapy.core.engine] DEBUG: Crawled (200) <GET https://esenciacosmetics.com/esenciaspaises/6-oman-purifiying-skin-facial-noche-de-incienso.html> (referer: None)\n",
            "2022-02-16 06:29:38 [scrapy.core.scraper] DEBUG: Scraped from <200 https://esenciacosmetics.com/esenciaspaises/6-oman-purifiying-skin-facial-noche-de-incienso.html>\n",
            "{'img': 'https://esenciacosmetics.com/193-large_default/oman-purifiying-skin-facial-noche-de-incienso.jpg',\n",
            " 'link': 'https://esenciacosmetics.com/esenciaspaises/6-oman-purifiying-skin-facial-noche-de-incienso.html',\n",
            " 'price': ['24,95 €'],\n",
            " 'title': ['Omán - PURIFIYING SKIN facial noche de incienso']}\n",
            "2022-02-16 06:29:38 [scrapy.core.engine] DEBUG: Crawled (200) <GET https://esenciacosmetics.com/esenciaspaises/19-senegal-piel-tersa-reafirmada-cuerpo-de-kigelia-vegana.html> (referer: None)\n",
            "2022-02-16 06:29:38 [scrapy.core.engine] DEBUG: Crawled (200) <GET https://esenciacosmetics.com/esenciaspaises/44-oman-ritual-purificante-capilar-de-incienso.html> (referer: None)\n",
            "2022-02-16 06:29:38 [scrapy.core.engine] DEBUG: Crawled (200) <GET https://esenciacosmetics.com/esenciaspaises/22-senegal-poder-reafirmante-manos-de-kigelia-vegana.html> (referer: None)\n",
            "2022-02-16 06:29:38 [scrapy.core.scraper] DEBUG: Scraped from <200 https://esenciacosmetics.com/esenciaspaises/19-senegal-piel-tersa-reafirmada-cuerpo-de-kigelia-vegana.html>\n",
            "{'img': 'https://esenciacosmetics.com/191-large_default/senegal-piel-tersa-reafirmada-cuerpo-de-kigelia-vegana.jpg',\n",
            " 'link': 'https://esenciacosmetics.com/esenciaspaises/19-senegal-piel-tersa-reafirmada-cuerpo-de-kigelia-vegana.html',\n",
            " 'price': ['24,95 €'],\n",
            " 'title': ['Senegal - piel TERSA REAFIRMADA cuerpo de kigelia (VEGANA)']}\n",
            "2022-02-16 06:29:38 [scrapy.core.scraper] DEBUG: Scraped from <200 https://esenciacosmetics.com/esenciaspaises/44-oman-ritual-purificante-capilar-de-incienso.html>\n",
            "{'img': 'https://esenciacosmetics.com/171-large_default/oman-ritual-purificante-capilar-de-incienso.jpg',\n",
            " 'link': 'https://esenciacosmetics.com/esenciaspaises/44-oman-ritual-purificante-capilar-de-incienso.html',\n",
            " 'price': ['29,00 €'],\n",
            " 'title': ['Omán - RITUAL PURIFICANTE capilar de incienso']}\n",
            "2022-02-16 06:29:38 [scrapy.core.engine] DEBUG: Crawled (200) <GET https://esenciacosmetics.com/esenciaspaises/1-senegal-tratamiento-remodelador-rostro-de-kigelia.html> (referer: None)\n",
            "2022-02-16 06:29:38 [scrapy.core.scraper] DEBUG: Scraped from <200 https://esenciacosmetics.com/esenciaspaises/22-senegal-poder-reafirmante-manos-de-kigelia-vegana.html>\n",
            "{'img': 'https://esenciacosmetics.com/183-large_default/senegal-poder-reafirmante-manos-de-kigelia-vegana.jpg',\n",
            " 'link': 'https://esenciacosmetics.com/esenciaspaises/22-senegal-poder-reafirmante-manos-de-kigelia-vegana.html',\n",
            " 'price': ['12,50 €'],\n",
            " 'title': ['Senegal - PODER REAFIRMANTE manos de kigelia (VEGANA)']}\n",
            "2022-02-16 06:29:38 [scrapy.core.engine] DEBUG: Crawled (200) <GET https://esenciacosmetics.com/esenciaspaises/5-tibet-crema-revitalizante-antioxidante-rostro-de-goji.html> (referer: None)\n",
            "2022-02-16 06:29:39 [scrapy.core.engine] DEBUG: Crawled (200) <GET https://esenciacosmetics.com/esenciaspaises/26-tibet-manos-revitalizadas-de-goji-vegana.html> (referer: None)\n",
            "2022-02-16 06:29:39 [scrapy.core.scraper] DEBUG: Scraped from <200 https://esenciacosmetics.com/esenciaspaises/1-senegal-tratamiento-remodelador-rostro-de-kigelia.html>\n",
            "{'img': 'https://esenciacosmetics.com/86-large_default/senegal-tratamiento-remodelador-rostro-de-kigelia.jpg',\n",
            " 'link': 'https://esenciacosmetics.com/esenciaspaises/1-senegal-tratamiento-remodelador-rostro-de-kigelia.html',\n",
            " 'price': ['24,95 €'],\n",
            " 'title': ['Senegal - tratamiento REMODELADOR rostro de Kigelia']}\n",
            "2022-02-16 06:29:39 [scrapy.core.scraper] DEBUG: Scraped from <200 https://esenciacosmetics.com/esenciaspaises/5-tibet-crema-revitalizante-antioxidante-rostro-de-goji.html>\n",
            "{'img': 'https://esenciacosmetics.com/84-large_default/tibet-crema-revitalizante-antioxidante-rostro-de-goji.jpg',\n",
            " 'link': 'https://esenciacosmetics.com/esenciaspaises/5-tibet-crema-revitalizante-antioxidante-rostro-de-goji.html',\n",
            " 'price': ['24,95 €'],\n",
            " 'title': ['Tibet - crema REVITALIZANTE ANTIOXIDANTE rostro de goji']}\n",
            "2022-02-16 06:29:39 [scrapy.core.scraper] DEBUG: Scraped from <200 https://esenciacosmetics.com/esenciaspaises/26-tibet-manos-revitalizadas-de-goji-vegana.html>\n",
            "{'img': 'https://esenciacosmetics.com/182-large_default/tibet-manos-revitalizadas-de-goji-vegana.jpg',\n",
            " 'link': 'https://esenciacosmetics.com/esenciaspaises/26-tibet-manos-revitalizadas-de-goji-vegana.html',\n",
            " 'price': ['12,50 €'],\n",
            " 'title': ['Tibet - manos REVITALIZADAS de goji (VEGANA)']}\n",
            "2022-02-16 06:29:39 [scrapy.core.engine] INFO: Closing spider (finished)\n",
            "2022-02-16 06:29:39 [scrapy.extensions.feedexport] INFO: Stored csv feed (31 items) in: Esenciacosmetics.csv\n",
            "2022-02-16 06:29:39 [scrapy.statscollectors] INFO: Dumping Scrapy stats:\n",
            "{'downloader/request_bytes': 16949,\n",
            " 'downloader/request_count': 32,\n",
            " 'downloader/request_method_count/GET': 32,\n",
            " 'downloader/response_bytes': 777329,\n",
            " 'downloader/response_count': 32,\n",
            " 'downloader/response_status_count/200': 32,\n",
            " 'elapsed_time_seconds': 7.342384,\n",
            " 'feedexport/success_count/FileFeedStorage': 1,\n",
            " 'finish_reason': 'finished',\n",
            " 'finish_time': datetime.datetime(2022, 2, 16, 6, 29, 39, 129118),\n",
            " 'httpcompression/response_bytes': 4439381,\n",
            " 'httpcompression/response_count': 32,\n",
            " 'item_scraped_count': 31,\n",
            " 'log_count/DEBUG': 67,\n",
            " 'log_count/INFO': 12,\n",
            " 'memusage/max': 74194944,\n",
            " 'memusage/startup': 74194944,\n",
            " 'response_received_count': 32,\n",
            " 'robotstxt/request_count': 1,\n",
            " 'robotstxt/response_count': 1,\n",
            " 'robotstxt/response_status_count/200': 1,\n",
            " 'scheduler/dequeued': 31,\n",
            " 'scheduler/dequeued/memory': 31,\n",
            " 'scheduler/enqueued': 31,\n",
            " 'scheduler/enqueued/memory': 31,\n",
            " 'start_time': datetime.datetime(2022, 2, 16, 6, 29, 31, 786734)}\n",
            "2022-02-16 06:29:39 [scrapy.core.engine] INFO: Spider closed (finished)\n"
          ]
        }
      ]
    },
    {
      "cell_type": "markdown",
      "source": [
        "Read csv file"
      ],
      "metadata": {
        "id": "vueh4k_kULt0"
      }
    },
    {
      "cell_type": "code",
      "source": [
        "filepath = \"./esenciacosmetics/Esenciacosmetics.csv\"\n",
        "df = pd.read_csv(filepath)\n",
        "df"
      ],
      "metadata": {
        "id": "H0Wca2mtWTUd",
        "colab": {
          "base_uri": "https://localhost:8080/",
          "height": 1000
        },
        "outputId": "5d61e70a-a5ce-4cdc-8d91-e66ec64c6769"
      },
      "execution_count": 127,
      "outputs": [
        {
          "output_type": "execute_result",
          "data": {
            "text/html": [
              "\n",
              "  <div id=\"df-7d9d6992-2e90-4cf8-9f6d-2bf308fa71ba\">\n",
              "    <div class=\"colab-df-container\">\n",
              "      <div>\n",
              "<style scoped>\n",
              "    .dataframe tbody tr th:only-of-type {\n",
              "        vertical-align: middle;\n",
              "    }\n",
              "\n",
              "    .dataframe tbody tr th {\n",
              "        vertical-align: top;\n",
              "    }\n",
              "\n",
              "    .dataframe thead th {\n",
              "        text-align: right;\n",
              "    }\n",
              "</style>\n",
              "<table border=\"1\" class=\"dataframe\">\n",
              "  <thead>\n",
              "    <tr style=\"text-align: right;\">\n",
              "      <th></th>\n",
              "      <th>img</th>\n",
              "      <th>link</th>\n",
              "      <th>price</th>\n",
              "      <th>title</th>\n",
              "    </tr>\n",
              "  </thead>\n",
              "  <tbody>\n",
              "    <tr>\n",
              "      <th>0</th>\n",
              "      <td>https://esenciacosmetics.com/166-large_default...</td>\n",
              "      <td>https://esenciacosmetics.com/esenciaspaises/28...</td>\n",
              "      <td>16,00 €</td>\n",
              "      <td>Brasil - champú COLOR PROTECT de açai</td>\n",
              "    </tr>\n",
              "    <tr>\n",
              "      <th>1</th>\n",
              "      <td>https://esenciacosmetics.com/131-large_default...</td>\n",
              "      <td>https://esenciacosmetics.com/esenciaspaises/29...</td>\n",
              "      <td>18,00 €</td>\n",
              "      <td>Brasil - crema acondicionadora COLOR PROTECT d...</td>\n",
              "    </tr>\n",
              "    <tr>\n",
              "      <th>2</th>\n",
              "      <td>https://esenciacosmetics.com/115-large_default...</td>\n",
              "      <td>https://esenciacosmetics.com/esenciaspaises/4-...</td>\n",
              "      <td>24,95 €</td>\n",
              "      <td>Brasil - rostro RADIANTE de açai crema de día</td>\n",
              "    </tr>\n",
              "    <tr>\n",
              "      <th>3</th>\n",
              "      <td>https://esenciacosmetics.com/172-large_default...</td>\n",
              "      <td>https://esenciacosmetics.com/esenciaspaises/43...</td>\n",
              "      <td>29,00 €</td>\n",
              "      <td>Corea - pack HAIR STIMULATOR de ginseng</td>\n",
              "    </tr>\n",
              "    <tr>\n",
              "      <th>4</th>\n",
              "      <td>https://esenciacosmetics.com/132-large_default...</td>\n",
              "      <td>https://esenciacosmetics.com/esenciaspaises/31...</td>\n",
              "      <td>18,00 €</td>\n",
              "      <td>Corea - crema acondicionadora ESTIMULANTE de g...</td>\n",
              "    </tr>\n",
              "    <tr>\n",
              "      <th>5</th>\n",
              "      <td>https://esenciacosmetics.com/83-large_default/...</td>\n",
              "      <td>https://esenciacosmetics.com/esenciaspaises/10...</td>\n",
              "      <td>24,95 €</td>\n",
              "      <td>Corea - crema facial ANTIEDAD REJUVENECEDORA d...</td>\n",
              "    </tr>\n",
              "    <tr>\n",
              "      <th>6</th>\n",
              "      <td>https://esenciacosmetics.com/170-large_default...</td>\n",
              "      <td>https://esenciacosmetics.com/esenciaspaises/42...</td>\n",
              "      <td>29,00 €</td>\n",
              "      <td>Brasil - pack SUPERCOLOR de açai</td>\n",
              "    </tr>\n",
              "    <tr>\n",
              "      <th>7</th>\n",
              "      <td>https://esenciacosmetics.com/184-large_default...</td>\n",
              "      <td>https://esenciacosmetics.com/esenciaspaises/25...</td>\n",
              "      <td>12,50 €</td>\n",
              "      <td>Corea - ANTIAGING MANOS de ginseng (VEGANA)</td>\n",
              "    </tr>\n",
              "    <tr>\n",
              "      <th>8</th>\n",
              "      <td>https://esenciacosmetics.com/154-large_default...</td>\n",
              "      <td>https://esenciacosmetics.com/esenciaspaises/52...</td>\n",
              "      <td>32,00 €</td>\n",
              "      <td>Corea - ritual ANTIEDAD TOTAL cara y manos de ...</td>\n",
              "    </tr>\n",
              "    <tr>\n",
              "      <th>9</th>\n",
              "      <td>https://esenciacosmetics.com/197-large_default...</td>\n",
              "      <td>https://esenciacosmetics.com/esenciaspaises/50...</td>\n",
              "      <td>32,00 €</td>\n",
              "      <td>India - pack ANTIMANCHAS TOTAL manos y cara de...</td>\n",
              "    </tr>\n",
              "    <tr>\n",
              "      <th>10</th>\n",
              "      <td>https://esenciacosmetics.com/192-large_default...</td>\n",
              "      <td>https://esenciacosmetics.com/esenciaspaises/8-...</td>\n",
              "      <td>24,95 €</td>\n",
              "      <td>La India - DIFUMINADOR MANCHAS facial noche de...</td>\n",
              "    </tr>\n",
              "    <tr>\n",
              "      <th>11</th>\n",
              "      <td>https://esenciacosmetics.com/199-large_default...</td>\n",
              "      <td>https://esenciacosmetics.com/esenciaspaises/57...</td>\n",
              "      <td>45,00 €</td>\n",
              "      <td>Italia - pack SUPERHIDRATANTE cara y cuerpo de...</td>\n",
              "    </tr>\n",
              "    <tr>\n",
              "      <th>12</th>\n",
              "      <td>https://esenciacosmetics.com/187-large_default...</td>\n",
              "      <td>https://esenciacosmetics.com/esenciaspaises/17...</td>\n",
              "      <td>24,95 €</td>\n",
              "      <td>Italia - crema corporal SUPERHIDRATANTE de lir...</td>\n",
              "    </tr>\n",
              "    <tr>\n",
              "      <th>13</th>\n",
              "      <td>https://esenciacosmetics.com/194-large_default...</td>\n",
              "      <td>https://esenciacosmetics.com/esenciaspaises/2-...</td>\n",
              "      <td>24,95 €</td>\n",
              "      <td>Italia - rostro HIPERHIDRATADO noche de lirio ...</td>\n",
              "    </tr>\n",
              "    <tr>\n",
              "      <th>14</th>\n",
              "      <td>https://esenciacosmetics.com/181-large_default...</td>\n",
              "      <td>https://esenciacosmetics.com/esenciaspaises/20...</td>\n",
              "      <td>12,50 €</td>\n",
              "      <td>La India - crema ANTIMANCHAS manos de azafrán ...</td>\n",
              "    </tr>\n",
              "    <tr>\n",
              "      <th>15</th>\n",
              "      <td>https://esenciacosmetics.com/168-large_default...</td>\n",
              "      <td>https://esenciacosmetics.com/esenciaspaises/38...</td>\n",
              "      <td>16,00 €</td>\n",
              "      <td>Malasia - champú ANTICAÍDA de centella asiática</td>\n",
              "    </tr>\n",
              "    <tr>\n",
              "      <th>16</th>\n",
              "      <td>https://esenciacosmetics.com/137-large_default...</td>\n",
              "      <td>https://esenciacosmetics.com/esenciaspaises/39...</td>\n",
              "      <td>18,00 €</td>\n",
              "      <td>Malasia - crema acondicionadora ANTICAÍDA de c...</td>\n",
              "    </tr>\n",
              "    <tr>\n",
              "      <th>17</th>\n",
              "      <td>https://esenciacosmetics.com/185-large_default...</td>\n",
              "      <td>https://esenciacosmetics.com/esenciaspaises/16...</td>\n",
              "      <td>27,00 €</td>\n",
              "      <td>Malasia - crema ULTRAINTENSIVA ANTICELULÍTICA ...</td>\n",
              "    </tr>\n",
              "    <tr>\n",
              "      <th>18</th>\n",
              "      <td>https://esenciacosmetics.com/173-large_default...</td>\n",
              "      <td>https://esenciacosmetics.com/esenciaspaises/47...</td>\n",
              "      <td>29,00 €</td>\n",
              "      <td>Malasia - PLAN ANTICAÍDA de centella asiática</td>\n",
              "    </tr>\n",
              "    <tr>\n",
              "      <th>19</th>\n",
              "      <td>https://esenciacosmetics.com/190-large_default...</td>\n",
              "      <td>https://esenciacosmetics.com/esenciaspaises/56...</td>\n",
              "      <td>24,95 €</td>\n",
              "      <td>México - piel REGENERADA de tepezcohuite (VEGANA)</td>\n",
              "    </tr>\n",
              "    <tr>\n",
              "      <th>20</th>\n",
              "      <td>https://esenciacosmetics.com/162-large_default...</td>\n",
              "      <td>https://esenciacosmetics.com/esenciaspaises/55...</td>\n",
              "      <td>24,95 €</td>\n",
              "      <td>México - PODER REGENERADOR rostro de tepezcohuite</td>\n",
              "    </tr>\n",
              "    <tr>\n",
              "      <th>21</th>\n",
              "      <td>https://esenciacosmetics.com/196-large_default...</td>\n",
              "      <td>https://esenciacosmetics.com/esenciaspaises/54...</td>\n",
              "      <td>45,00 €</td>\n",
              "      <td>México y Omán - Elixir REPARADOR facial piel g...</td>\n",
              "    </tr>\n",
              "    <tr>\n",
              "      <th>22</th>\n",
              "      <td>https://esenciacosmetics.com/167-large_default...</td>\n",
              "      <td>https://esenciacosmetics.com/esenciaspaises/32...</td>\n",
              "      <td>16,00 €</td>\n",
              "      <td>Omán - champú PURIFICANTE de incienso</td>\n",
              "    </tr>\n",
              "    <tr>\n",
              "      <th>23</th>\n",
              "      <td>https://esenciacosmetics.com/158-large_default...</td>\n",
              "      <td>https://esenciacosmetics.com/esenciaspaises/33...</td>\n",
              "      <td>18,00 €</td>\n",
              "      <td>Omán - crema acondicionadora PURIFICANTE de in...</td>\n",
              "    </tr>\n",
              "    <tr>\n",
              "      <th>24</th>\n",
              "      <td>https://esenciacosmetics.com/193-large_default...</td>\n",
              "      <td>https://esenciacosmetics.com/esenciaspaises/6-...</td>\n",
              "      <td>24,95 €</td>\n",
              "      <td>Omán - PURIFIYING SKIN facial noche de incienso</td>\n",
              "    </tr>\n",
              "    <tr>\n",
              "      <th>25</th>\n",
              "      <td>https://esenciacosmetics.com/191-large_default...</td>\n",
              "      <td>https://esenciacosmetics.com/esenciaspaises/19...</td>\n",
              "      <td>24,95 €</td>\n",
              "      <td>Senegal - piel TERSA REAFIRMADA cuerpo de kige...</td>\n",
              "    </tr>\n",
              "    <tr>\n",
              "      <th>26</th>\n",
              "      <td>https://esenciacosmetics.com/171-large_default...</td>\n",
              "      <td>https://esenciacosmetics.com/esenciaspaises/44...</td>\n",
              "      <td>29,00 €</td>\n",
              "      <td>Omán - RITUAL PURIFICANTE capilar de incienso</td>\n",
              "    </tr>\n",
              "    <tr>\n",
              "      <th>27</th>\n",
              "      <td>https://esenciacosmetics.com/183-large_default...</td>\n",
              "      <td>https://esenciacosmetics.com/esenciaspaises/22...</td>\n",
              "      <td>12,50 €</td>\n",
              "      <td>Senegal - PODER REAFIRMANTE manos de kigelia (...</td>\n",
              "    </tr>\n",
              "    <tr>\n",
              "      <th>28</th>\n",
              "      <td>https://esenciacosmetics.com/86-large_default/...</td>\n",
              "      <td>https://esenciacosmetics.com/esenciaspaises/1-...</td>\n",
              "      <td>24,95 €</td>\n",
              "      <td>Senegal - tratamiento REMODELADOR rostro de Ki...</td>\n",
              "    </tr>\n",
              "    <tr>\n",
              "      <th>29</th>\n",
              "      <td>https://esenciacosmetics.com/84-large_default/...</td>\n",
              "      <td>https://esenciacosmetics.com/esenciaspaises/5-...</td>\n",
              "      <td>24,95 €</td>\n",
              "      <td>Tibet - crema REVITALIZANTE ANTIOXIDANTE rostr...</td>\n",
              "    </tr>\n",
              "    <tr>\n",
              "      <th>30</th>\n",
              "      <td>https://esenciacosmetics.com/182-large_default...</td>\n",
              "      <td>https://esenciacosmetics.com/esenciaspaises/26...</td>\n",
              "      <td>12,50 €</td>\n",
              "      <td>Tibet - manos REVITALIZADAS de goji (VEGANA)</td>\n",
              "    </tr>\n",
              "  </tbody>\n",
              "</table>\n",
              "</div>\n",
              "      <button class=\"colab-df-convert\" onclick=\"convertToInteractive('df-7d9d6992-2e90-4cf8-9f6d-2bf308fa71ba')\"\n",
              "              title=\"Convert this dataframe to an interactive table.\"\n",
              "              style=\"display:none;\">\n",
              "        \n",
              "  <svg xmlns=\"http://www.w3.org/2000/svg\" height=\"24px\"viewBox=\"0 0 24 24\"\n",
              "       width=\"24px\">\n",
              "    <path d=\"M0 0h24v24H0V0z\" fill=\"none\"/>\n",
              "    <path d=\"M18.56 5.44l.94 2.06.94-2.06 2.06-.94-2.06-.94-.94-2.06-.94 2.06-2.06.94zm-11 1L8.5 8.5l.94-2.06 2.06-.94-2.06-.94L8.5 2.5l-.94 2.06-2.06.94zm10 10l.94 2.06.94-2.06 2.06-.94-2.06-.94-.94-2.06-.94 2.06-2.06.94z\"/><path d=\"M17.41 7.96l-1.37-1.37c-.4-.4-.92-.59-1.43-.59-.52 0-1.04.2-1.43.59L10.3 9.45l-7.72 7.72c-.78.78-.78 2.05 0 2.83L4 21.41c.39.39.9.59 1.41.59.51 0 1.02-.2 1.41-.59l7.78-7.78 2.81-2.81c.8-.78.8-2.07 0-2.86zM5.41 20L4 18.59l7.72-7.72 1.47 1.35L5.41 20z\"/>\n",
              "  </svg>\n",
              "      </button>\n",
              "      \n",
              "  <style>\n",
              "    .colab-df-container {\n",
              "      display:flex;\n",
              "      flex-wrap:wrap;\n",
              "      gap: 12px;\n",
              "    }\n",
              "\n",
              "    .colab-df-convert {\n",
              "      background-color: #E8F0FE;\n",
              "      border: none;\n",
              "      border-radius: 50%;\n",
              "      cursor: pointer;\n",
              "      display: none;\n",
              "      fill: #1967D2;\n",
              "      height: 32px;\n",
              "      padding: 0 0 0 0;\n",
              "      width: 32px;\n",
              "    }\n",
              "\n",
              "    .colab-df-convert:hover {\n",
              "      background-color: #E2EBFA;\n",
              "      box-shadow: 0px 1px 2px rgba(60, 64, 67, 0.3), 0px 1px 3px 1px rgba(60, 64, 67, 0.15);\n",
              "      fill: #174EA6;\n",
              "    }\n",
              "\n",
              "    [theme=dark] .colab-df-convert {\n",
              "      background-color: #3B4455;\n",
              "      fill: #D2E3FC;\n",
              "    }\n",
              "\n",
              "    [theme=dark] .colab-df-convert:hover {\n",
              "      background-color: #434B5C;\n",
              "      box-shadow: 0px 1px 3px 1px rgba(0, 0, 0, 0.15);\n",
              "      filter: drop-shadow(0px 1px 2px rgba(0, 0, 0, 0.3));\n",
              "      fill: #FFFFFF;\n",
              "    }\n",
              "  </style>\n",
              "\n",
              "      <script>\n",
              "        const buttonEl =\n",
              "          document.querySelector('#df-7d9d6992-2e90-4cf8-9f6d-2bf308fa71ba button.colab-df-convert');\n",
              "        buttonEl.style.display =\n",
              "          google.colab.kernel.accessAllowed ? 'block' : 'none';\n",
              "\n",
              "        async function convertToInteractive(key) {\n",
              "          const element = document.querySelector('#df-7d9d6992-2e90-4cf8-9f6d-2bf308fa71ba');\n",
              "          const dataTable =\n",
              "            await google.colab.kernel.invokeFunction('convertToInteractive',\n",
              "                                                     [key], {});\n",
              "          if (!dataTable) return;\n",
              "\n",
              "          const docLinkHtml = 'Like what you see? Visit the ' +\n",
              "            '<a target=\"_blank\" href=https://colab.research.google.com/notebooks/data_table.ipynb>data table notebook</a>'\n",
              "            + ' to learn more about interactive tables.';\n",
              "          element.innerHTML = '';\n",
              "          dataTable['output_type'] = 'display_data';\n",
              "          await google.colab.output.renderOutput(dataTable, element);\n",
              "          const docLink = document.createElement('div');\n",
              "          docLink.innerHTML = docLinkHtml;\n",
              "          element.appendChild(docLink);\n",
              "        }\n",
              "      </script>\n",
              "    </div>\n",
              "  </div>\n",
              "  "
            ],
            "text/plain": [
              "                                                  img  ...                                              title\n",
              "0   https://esenciacosmetics.com/166-large_default...  ...              Brasil - champú COLOR PROTECT de açai\n",
              "1   https://esenciacosmetics.com/131-large_default...  ...  Brasil - crema acondicionadora COLOR PROTECT d...\n",
              "2   https://esenciacosmetics.com/115-large_default...  ...      Brasil - rostro RADIANTE de açai crema de día\n",
              "3   https://esenciacosmetics.com/172-large_default...  ...            Corea - pack HAIR STIMULATOR de ginseng\n",
              "4   https://esenciacosmetics.com/132-large_default...  ...  Corea - crema acondicionadora ESTIMULANTE de g...\n",
              "5   https://esenciacosmetics.com/83-large_default/...  ...  Corea - crema facial ANTIEDAD REJUVENECEDORA d...\n",
              "6   https://esenciacosmetics.com/170-large_default...  ...                   Brasil - pack SUPERCOLOR de açai\n",
              "7   https://esenciacosmetics.com/184-large_default...  ...        Corea - ANTIAGING MANOS de ginseng (VEGANA)\n",
              "8   https://esenciacosmetics.com/154-large_default...  ...  Corea - ritual ANTIEDAD TOTAL cara y manos de ...\n",
              "9   https://esenciacosmetics.com/197-large_default...  ...  India - pack ANTIMANCHAS TOTAL manos y cara de...\n",
              "10  https://esenciacosmetics.com/192-large_default...  ...  La India - DIFUMINADOR MANCHAS facial noche de...\n",
              "11  https://esenciacosmetics.com/199-large_default...  ...  Italia - pack SUPERHIDRATANTE cara y cuerpo de...\n",
              "12  https://esenciacosmetics.com/187-large_default...  ...  Italia - crema corporal SUPERHIDRATANTE de lir...\n",
              "13  https://esenciacosmetics.com/194-large_default...  ...  Italia - rostro HIPERHIDRATADO noche de lirio ...\n",
              "14  https://esenciacosmetics.com/181-large_default...  ...  La India - crema ANTIMANCHAS manos de azafrán ...\n",
              "15  https://esenciacosmetics.com/168-large_default...  ...    Malasia - champú ANTICAÍDA de centella asiática\n",
              "16  https://esenciacosmetics.com/137-large_default...  ...  Malasia - crema acondicionadora ANTICAÍDA de c...\n",
              "17  https://esenciacosmetics.com/185-large_default...  ...  Malasia - crema ULTRAINTENSIVA ANTICELULÍTICA ...\n",
              "18  https://esenciacosmetics.com/173-large_default...  ...      Malasia - PLAN ANTICAÍDA de centella asiática\n",
              "19  https://esenciacosmetics.com/190-large_default...  ...  México - piel REGENERADA de tepezcohuite (VEGANA)\n",
              "20  https://esenciacosmetics.com/162-large_default...  ...  México - PODER REGENERADOR rostro de tepezcohuite\n",
              "21  https://esenciacosmetics.com/196-large_default...  ...  México y Omán - Elixir REPARADOR facial piel g...\n",
              "22  https://esenciacosmetics.com/167-large_default...  ...              Omán - champú PURIFICANTE de incienso\n",
              "23  https://esenciacosmetics.com/158-large_default...  ...  Omán - crema acondicionadora PURIFICANTE de in...\n",
              "24  https://esenciacosmetics.com/193-large_default...  ...    Omán - PURIFIYING SKIN facial noche de incienso\n",
              "25  https://esenciacosmetics.com/191-large_default...  ...  Senegal - piel TERSA REAFIRMADA cuerpo de kige...\n",
              "26  https://esenciacosmetics.com/171-large_default...  ...      Omán - RITUAL PURIFICANTE capilar de incienso\n",
              "27  https://esenciacosmetics.com/183-large_default...  ...  Senegal - PODER REAFIRMANTE manos de kigelia (...\n",
              "28  https://esenciacosmetics.com/86-large_default/...  ...  Senegal - tratamiento REMODELADOR rostro de Ki...\n",
              "29  https://esenciacosmetics.com/84-large_default/...  ...  Tibet - crema REVITALIZANTE ANTIOXIDANTE rostr...\n",
              "30  https://esenciacosmetics.com/182-large_default...  ...       Tibet - manos REVITALIZADAS de goji (VEGANA)\n",
              "\n",
              "[31 rows x 4 columns]"
            ]
          },
          "metadata": {},
          "execution_count": 127
        }
      ]
    }
  ],
  "metadata": {
    "colab": {
      "collapsed_sections": [],
      "name": "S12_T02-web_scraping.ipynb",
      "provenance": [],
      "include_colab_link": true
    },
    "interpreter": {
      "hash": "31f2aee4e71d21fbe5cf8b01ff0e069b9275f58929596ceb00d14d90e3e16cd6"
    },
    "kernelspec": {
      "display_name": "Python 3",
      "language": "python",
      "name": "python3"
    },
    "language_info": {
      "codemirror_mode": {
        "name": "ipython",
        "version": 3
      },
      "file_extension": ".py",
      "mimetype": "text/x-python",
      "name": "python",
      "nbconvert_exporter": "python",
      "pygments_lexer": "ipython3",
      "version": "3.8.10"
    },
    "metadata": {
      "interpreter": {
        "hash": "31f2aee4e71d21fbe5cf8b01ff0e069b9275f58929596ceb00d14d90e3e16cd6"
      }
    }
  },
  "nbformat": 4,
  "nbformat_minor": 0
}